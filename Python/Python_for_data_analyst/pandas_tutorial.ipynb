{
 "metadata": {
  "language_info": {
   "codemirror_mode": {
    "name": "ipython",
    "version": 3
   },
   "file_extension": ".py",
   "mimetype": "text/x-python",
   "name": "python",
   "nbconvert_exporter": "python",
   "pygments_lexer": "ipython3",
   "version": "3.9.4"
  },
  "orig_nbformat": 2,
  "kernelspec": {
   "name": "python3",
   "display_name": "Python 3.9.4 64-bit ('minimal_ds': conda)"
  },
  "interpreter": {
   "hash": "9483d3a6b315267bc1ad8033d72d52edd75e7f3d51fd5ecb041025f625014cad"
  }
 },
 "nbformat": 4,
 "nbformat_minor": 2,
 "cells": [
  {
   "cell_type": "code",
   "execution_count": 1,
   "metadata": {},
   "outputs": [],
   "source": [
    "import pandas as pd\n",
    "import os"
   ]
  },
  {
   "cell_type": "code",
   "execution_count": 2,
   "metadata": {},
   "outputs": [
    {
     "output_type": "execute_result",
     "data": {
      "text/plain": [
       "'c:\\\\Users\\\\Jobin\\\\Data_science\\\\Python_for_data_analyst'"
      ]
     },
     "metadata": {},
     "execution_count": 2
    }
   ],
   "source": [
    "pwd = os.getcwd()\n",
    "pwd"
   ]
  },
  {
   "cell_type": "code",
   "execution_count": 3,
   "metadata": {},
   "outputs": [
    {
     "output_type": "execute_result",
     "data": {
      "text/plain": [
       "0      1\n",
       "1      2\n",
       "2      3\n",
       "3      4\n",
       "4      5\n",
       "      ..\n",
       "94    95\n",
       "95    96\n",
       "96    97\n",
       "97    98\n",
       "98    99\n",
       "Length: 99, dtype: int64"
      ]
     },
     "metadata": {},
     "execution_count": 3
    }
   ],
   "source": [
    "series_test=list(range(1,100))\n",
    "pd.Series(series_test)"
   ]
  },
  {
   "cell_type": "code",
   "execution_count": 4,
   "metadata": {},
   "outputs": [
    {
     "output_type": "execute_result",
     "data": {
      "text/plain": [
       "'c:\\\\Users\\\\Jobin\\\\Data_science\\\\Python_for_data_analyst\\\\simple_csv.csv'"
      ]
     },
     "metadata": {},
     "execution_count": 4
    }
   ],
   "source": [
    "filepath = pwd + \"\\\\simple_csv.csv\"\n",
    "filepath"
   ]
  },
  {
   "cell_type": "code",
   "execution_count": 29,
   "metadata": {},
   "outputs": [
    {
     "output_type": "execute_result",
     "data": {
      "text/plain": [
       "    Column1   Column2   Column3\n",
       "0  0.280925  0.910368  0.692982\n",
       "1  0.719882  0.210024  0.761276\n",
       "2  0.235752  0.059796  0.154667\n",
       "3  0.603366  0.485614  0.013345\n",
       "4  0.039985  0.236359  0.811832\n",
       "5  0.015478  0.543641  0.112719\n",
       "6  0.192540  0.409874  0.875082\n",
       "7  0.380921  0.045468  0.515859\n",
       "8  0.592471  0.786421  0.047249\n",
       "9  0.072112  0.695694  0.409573"
      ],
      "text/html": "<div>\n<style scoped>\n    .dataframe tbody tr th:only-of-type {\n        vertical-align: middle;\n    }\n\n    .dataframe tbody tr th {\n        vertical-align: top;\n    }\n\n    .dataframe thead th {\n        text-align: right;\n    }\n</style>\n<table border=\"1\" class=\"dataframe\">\n  <thead>\n    <tr style=\"text-align: right;\">\n      <th></th>\n      <th>Column1</th>\n      <th>Column2</th>\n      <th>Column3</th>\n    </tr>\n  </thead>\n  <tbody>\n    <tr>\n      <th>0</th>\n      <td>0.280925</td>\n      <td>0.910368</td>\n      <td>0.692982</td>\n    </tr>\n    <tr>\n      <th>1</th>\n      <td>0.719882</td>\n      <td>0.210024</td>\n      <td>0.761276</td>\n    </tr>\n    <tr>\n      <th>2</th>\n      <td>0.235752</td>\n      <td>0.059796</td>\n      <td>0.154667</td>\n    </tr>\n    <tr>\n      <th>3</th>\n      <td>0.603366</td>\n      <td>0.485614</td>\n      <td>0.013345</td>\n    </tr>\n    <tr>\n      <th>4</th>\n      <td>0.039985</td>\n      <td>0.236359</td>\n      <td>0.811832</td>\n    </tr>\n    <tr>\n      <th>5</th>\n      <td>0.015478</td>\n      <td>0.543641</td>\n      <td>0.112719</td>\n    </tr>\n    <tr>\n      <th>6</th>\n      <td>0.192540</td>\n      <td>0.409874</td>\n      <td>0.875082</td>\n    </tr>\n    <tr>\n      <th>7</th>\n      <td>0.380921</td>\n      <td>0.045468</td>\n      <td>0.515859</td>\n    </tr>\n    <tr>\n      <th>8</th>\n      <td>0.592471</td>\n      <td>0.786421</td>\n      <td>0.047249</td>\n    </tr>\n    <tr>\n      <th>9</th>\n      <td>0.072112</td>\n      <td>0.695694</td>\n      <td>0.409573</td>\n    </tr>\n  </tbody>\n</table>\n</div>"
     },
     "metadata": {},
     "execution_count": 29
    }
   ],
   "source": [
    "first_import = pd.read_csv(filepath, nrows=10)\n",
    "first_import"
   ]
  },
  {
   "cell_type": "code",
   "execution_count": 30,
   "metadata": {},
   "outputs": [
    {
     "output_type": "execute_result",
     "data": {
      "text/plain": [
       "0    0.280925\n",
       "1    0.719882\n",
       "2    0.235752\n",
       "3    0.603366\n",
       "4    0.039985\n",
       "5    0.015478\n",
       "6    0.192540\n",
       "7    0.380921\n",
       "8    0.592471\n",
       "9    0.072112\n",
       "Name: Column1, dtype: float64"
      ]
     },
     "metadata": {},
     "execution_count": 30
    }
   ],
   "source": [
    "first_import[\"Column1\"]"
   ]
  },
  {
   "cell_type": "code",
   "execution_count": 31,
   "metadata": {},
   "outputs": [
    {
     "output_type": "execute_result",
     "data": {
      "text/plain": [
       "    Column1   Column2   Column3  New Column1  New Column2  Added Output\n",
       "0  0.280925  0.910368  0.692982            1            0             1\n",
       "1  0.719882  0.210024  0.761276            1            1             2\n",
       "2  0.235752  0.059796  0.154667            1            2             3\n",
       "3  0.603366  0.485614  0.013345            1            3             4\n",
       "4  0.039985  0.236359  0.811832            1            4             5\n",
       "5  0.015478  0.543641  0.112719            1            5             6\n",
       "6  0.192540  0.409874  0.875082            1            6             7\n",
       "7  0.380921  0.045468  0.515859            1            7             8\n",
       "8  0.592471  0.786421  0.047249            1            8             9\n",
       "9  0.072112  0.695694  0.409573            1            9            10"
      ],
      "text/html": "<div>\n<style scoped>\n    .dataframe tbody tr th:only-of-type {\n        vertical-align: middle;\n    }\n\n    .dataframe tbody tr th {\n        vertical-align: top;\n    }\n\n    .dataframe thead th {\n        text-align: right;\n    }\n</style>\n<table border=\"1\" class=\"dataframe\">\n  <thead>\n    <tr style=\"text-align: right;\">\n      <th></th>\n      <th>Column1</th>\n      <th>Column2</th>\n      <th>Column3</th>\n      <th>New Column1</th>\n      <th>New Column2</th>\n      <th>Added Output</th>\n    </tr>\n  </thead>\n  <tbody>\n    <tr>\n      <th>0</th>\n      <td>0.280925</td>\n      <td>0.910368</td>\n      <td>0.692982</td>\n      <td>1</td>\n      <td>0</td>\n      <td>1</td>\n    </tr>\n    <tr>\n      <th>1</th>\n      <td>0.719882</td>\n      <td>0.210024</td>\n      <td>0.761276</td>\n      <td>1</td>\n      <td>1</td>\n      <td>2</td>\n    </tr>\n    <tr>\n      <th>2</th>\n      <td>0.235752</td>\n      <td>0.059796</td>\n      <td>0.154667</td>\n      <td>1</td>\n      <td>2</td>\n      <td>3</td>\n    </tr>\n    <tr>\n      <th>3</th>\n      <td>0.603366</td>\n      <td>0.485614</td>\n      <td>0.013345</td>\n      <td>1</td>\n      <td>3</td>\n      <td>4</td>\n    </tr>\n    <tr>\n      <th>4</th>\n      <td>0.039985</td>\n      <td>0.236359</td>\n      <td>0.811832</td>\n      <td>1</td>\n      <td>4</td>\n      <td>5</td>\n    </tr>\n    <tr>\n      <th>5</th>\n      <td>0.015478</td>\n      <td>0.543641</td>\n      <td>0.112719</td>\n      <td>1</td>\n      <td>5</td>\n      <td>6</td>\n    </tr>\n    <tr>\n      <th>6</th>\n      <td>0.192540</td>\n      <td>0.409874</td>\n      <td>0.875082</td>\n      <td>1</td>\n      <td>6</td>\n      <td>7</td>\n    </tr>\n    <tr>\n      <th>7</th>\n      <td>0.380921</td>\n      <td>0.045468</td>\n      <td>0.515859</td>\n      <td>1</td>\n      <td>7</td>\n      <td>8</td>\n    </tr>\n    <tr>\n      <th>8</th>\n      <td>0.592471</td>\n      <td>0.786421</td>\n      <td>0.047249</td>\n      <td>1</td>\n      <td>8</td>\n      <td>9</td>\n    </tr>\n    <tr>\n      <th>9</th>\n      <td>0.072112</td>\n      <td>0.695694</td>\n      <td>0.409573</td>\n      <td>1</td>\n      <td>9</td>\n      <td>10</td>\n    </tr>\n  </tbody>\n</table>\n</div>"
     },
     "metadata": {},
     "execution_count": 31
    }
   ],
   "source": [
    "first_import[\"New Column1\"] = 1\n",
    "first_import[\"New Column2\"] = list(range(10))\n",
    "first_import[\"Added Output\"] = first_import[\"New Column1\"] + first_import[\"New Column2\"]\n",
    "first_import"
   ]
  },
  {
   "cell_type": "code",
   "execution_count": 32,
   "metadata": {},
   "outputs": [
    {
     "output_type": "execute_result",
     "data": {
      "text/plain": [
       "    Column1   Column2   Column3  New Column1  New Column2  Added Output\n",
       "0  0.280925  0.910368  0.692982            1            0             1\n",
       "1  0.719882  0.210024  0.761276            1            1             2\n",
       "2  0.235752  0.059796  0.154667            1            2             3\n",
       "3  0.603366  0.485614  0.013345            1            3             4\n",
       "4  0.039985  0.236359  0.811832            1            4             5\n",
       "5  0.015478  0.543641  0.112719            1            5             6\n",
       "6  0.192540  0.409874  0.875082            1            6             7\n",
       "7  0.380921  0.045468  0.515859            1            7             8\n",
       "8  0.592471  0.786421  0.047249            1            8             9\n",
       "9  0.072112  0.695694  0.409573            1            9            10"
      ],
      "text/html": "<div>\n<style scoped>\n    .dataframe tbody tr th:only-of-type {\n        vertical-align: middle;\n    }\n\n    .dataframe tbody tr th {\n        vertical-align: top;\n    }\n\n    .dataframe thead th {\n        text-align: right;\n    }\n</style>\n<table border=\"1\" class=\"dataframe\">\n  <thead>\n    <tr style=\"text-align: right;\">\n      <th></th>\n      <th>Column1</th>\n      <th>Column2</th>\n      <th>Column3</th>\n      <th>New Column1</th>\n      <th>New Column2</th>\n      <th>Added Output</th>\n    </tr>\n  </thead>\n  <tbody>\n    <tr>\n      <th>0</th>\n      <td>0.280925</td>\n      <td>0.910368</td>\n      <td>0.692982</td>\n      <td>1</td>\n      <td>0</td>\n      <td>1</td>\n    </tr>\n    <tr>\n      <th>1</th>\n      <td>0.719882</td>\n      <td>0.210024</td>\n      <td>0.761276</td>\n      <td>1</td>\n      <td>1</td>\n      <td>2</td>\n    </tr>\n    <tr>\n      <th>2</th>\n      <td>0.235752</td>\n      <td>0.059796</td>\n      <td>0.154667</td>\n      <td>1</td>\n      <td>2</td>\n      <td>3</td>\n    </tr>\n    <tr>\n      <th>3</th>\n      <td>0.603366</td>\n      <td>0.485614</td>\n      <td>0.013345</td>\n      <td>1</td>\n      <td>3</td>\n      <td>4</td>\n    </tr>\n    <tr>\n      <th>4</th>\n      <td>0.039985</td>\n      <td>0.236359</td>\n      <td>0.811832</td>\n      <td>1</td>\n      <td>4</td>\n      <td>5</td>\n    </tr>\n    <tr>\n      <th>5</th>\n      <td>0.015478</td>\n      <td>0.543641</td>\n      <td>0.112719</td>\n      <td>1</td>\n      <td>5</td>\n      <td>6</td>\n    </tr>\n    <tr>\n      <th>6</th>\n      <td>0.192540</td>\n      <td>0.409874</td>\n      <td>0.875082</td>\n      <td>1</td>\n      <td>6</td>\n      <td>7</td>\n    </tr>\n    <tr>\n      <th>7</th>\n      <td>0.380921</td>\n      <td>0.045468</td>\n      <td>0.515859</td>\n      <td>1</td>\n      <td>7</td>\n      <td>8</td>\n    </tr>\n    <tr>\n      <th>8</th>\n      <td>0.592471</td>\n      <td>0.786421</td>\n      <td>0.047249</td>\n      <td>1</td>\n      <td>8</td>\n      <td>9</td>\n    </tr>\n    <tr>\n      <th>9</th>\n      <td>0.072112</td>\n      <td>0.695694</td>\n      <td>0.409573</td>\n      <td>1</td>\n      <td>9</td>\n      <td>10</td>\n    </tr>\n  </tbody>\n</table>\n</div>"
     },
     "metadata": {},
     "execution_count": 32
    }
   ],
   "source": [
    "first_import.drop(columns=['New Column1'])\n",
    "first_import"
   ]
  },
  {
   "cell_type": "code",
   "execution_count": 33,
   "metadata": {},
   "outputs": [
    {
     "output_type": "execute_result",
     "data": {
      "text/plain": [
       "    Column1   Column2   Column3  New Column2  Added Output\n",
       "0  0.280925  0.910368  0.692982            0             1\n",
       "1  0.719882  0.210024  0.761276            1             2\n",
       "2  0.235752  0.059796  0.154667            2             3\n",
       "3  0.603366  0.485614  0.013345            3             4\n",
       "4  0.039985  0.236359  0.811832            4             5\n",
       "5  0.015478  0.543641  0.112719            5             6\n",
       "6  0.192540  0.409874  0.875082            6             7\n",
       "7  0.380921  0.045468  0.515859            7             8\n",
       "8  0.592471  0.786421  0.047249            8             9\n",
       "9  0.072112  0.695694  0.409573            9            10"
      ],
      "text/html": "<div>\n<style scoped>\n    .dataframe tbody tr th:only-of-type {\n        vertical-align: middle;\n    }\n\n    .dataframe tbody tr th {\n        vertical-align: top;\n    }\n\n    .dataframe thead th {\n        text-align: right;\n    }\n</style>\n<table border=\"1\" class=\"dataframe\">\n  <thead>\n    <tr style=\"text-align: right;\">\n      <th></th>\n      <th>Column1</th>\n      <th>Column2</th>\n      <th>Column3</th>\n      <th>New Column2</th>\n      <th>Added Output</th>\n    </tr>\n  </thead>\n  <tbody>\n    <tr>\n      <th>0</th>\n      <td>0.280925</td>\n      <td>0.910368</td>\n      <td>0.692982</td>\n      <td>0</td>\n      <td>1</td>\n    </tr>\n    <tr>\n      <th>1</th>\n      <td>0.719882</td>\n      <td>0.210024</td>\n      <td>0.761276</td>\n      <td>1</td>\n      <td>2</td>\n    </tr>\n    <tr>\n      <th>2</th>\n      <td>0.235752</td>\n      <td>0.059796</td>\n      <td>0.154667</td>\n      <td>2</td>\n      <td>3</td>\n    </tr>\n    <tr>\n      <th>3</th>\n      <td>0.603366</td>\n      <td>0.485614</td>\n      <td>0.013345</td>\n      <td>3</td>\n      <td>4</td>\n    </tr>\n    <tr>\n      <th>4</th>\n      <td>0.039985</td>\n      <td>0.236359</td>\n      <td>0.811832</td>\n      <td>4</td>\n      <td>5</td>\n    </tr>\n    <tr>\n      <th>5</th>\n      <td>0.015478</td>\n      <td>0.543641</td>\n      <td>0.112719</td>\n      <td>5</td>\n      <td>6</td>\n    </tr>\n    <tr>\n      <th>6</th>\n      <td>0.192540</td>\n      <td>0.409874</td>\n      <td>0.875082</td>\n      <td>6</td>\n      <td>7</td>\n    </tr>\n    <tr>\n      <th>7</th>\n      <td>0.380921</td>\n      <td>0.045468</td>\n      <td>0.515859</td>\n      <td>7</td>\n      <td>8</td>\n    </tr>\n    <tr>\n      <th>8</th>\n      <td>0.592471</td>\n      <td>0.786421</td>\n      <td>0.047249</td>\n      <td>8</td>\n      <td>9</td>\n    </tr>\n    <tr>\n      <th>9</th>\n      <td>0.072112</td>\n      <td>0.695694</td>\n      <td>0.409573</td>\n      <td>9</td>\n      <td>10</td>\n    </tr>\n  </tbody>\n</table>\n</div>"
     },
     "metadata": {},
     "execution_count": 33
    }
   ],
   "source": [
    "# you can also drop this way \n",
    "first_import.drop(columns='New Column1', inplace = True)\n",
    "first_import"
   ]
  },
  {
   "cell_type": "code",
   "execution_count": 49,
   "metadata": {},
   "outputs": [
    {
     "output_type": "execute_result",
     "data": {
      "text/plain": [
       "    Column1   Column2   Column3  New Column2  Added Output\n",
       "2  0.235752  0.059796  0.154667            2             3\n",
       "3  0.603366  0.485614  0.013345            3             4\n",
       "4  0.039985  0.236359  0.811832            4             5\n",
       "5  0.015478  0.543641  0.112719            5             6"
      ],
      "text/html": "<div>\n<style scoped>\n    .dataframe tbody tr th:only-of-type {\n        vertical-align: middle;\n    }\n\n    .dataframe tbody tr th {\n        vertical-align: top;\n    }\n\n    .dataframe thead th {\n        text-align: right;\n    }\n</style>\n<table border=\"1\" class=\"dataframe\">\n  <thead>\n    <tr style=\"text-align: right;\">\n      <th></th>\n      <th>Column1</th>\n      <th>Column2</th>\n      <th>Column3</th>\n      <th>New Column2</th>\n      <th>Added Output</th>\n    </tr>\n  </thead>\n  <tbody>\n    <tr>\n      <th>2</th>\n      <td>0.235752</td>\n      <td>0.059796</td>\n      <td>0.154667</td>\n      <td>2</td>\n      <td>3</td>\n    </tr>\n    <tr>\n      <th>3</th>\n      <td>0.603366</td>\n      <td>0.485614</td>\n      <td>0.013345</td>\n      <td>3</td>\n      <td>4</td>\n    </tr>\n    <tr>\n      <th>4</th>\n      <td>0.039985</td>\n      <td>0.236359</td>\n      <td>0.811832</td>\n      <td>4</td>\n      <td>5</td>\n    </tr>\n    <tr>\n      <th>5</th>\n      <td>0.015478</td>\n      <td>0.543641</td>\n      <td>0.112719</td>\n      <td>5</td>\n      <td>6</td>\n    </tr>\n  </tbody>\n</table>\n</div>"
     },
     "metadata": {},
     "execution_count": 49
    }
   ],
   "source": [
    "first_import.loc[2:5,['Column1','Column2','Column3',\"New Column2\",'Added Output']] # loc includes the last instances you specify for example 5 here "
   ]
  },
  {
   "cell_type": "code",
   "execution_count": 35,
   "metadata": {},
   "outputs": [
    {
     "output_type": "execute_result",
     "data": {
      "text/plain": [
       "    Column1   Column2   Column3  New Column2  Added Output\n",
       "3  0.603366  0.485614  0.013345            3             4\n",
       "4  0.039985  0.236359  0.811832            4             5\n",
       "5  0.015478  0.543641  0.112719            5             6"
      ],
      "text/html": "<div>\n<style scoped>\n    .dataframe tbody tr th:only-of-type {\n        vertical-align: middle;\n    }\n\n    .dataframe tbody tr th {\n        vertical-align: top;\n    }\n\n    .dataframe thead th {\n        text-align: right;\n    }\n</style>\n<table border=\"1\" class=\"dataframe\">\n  <thead>\n    <tr style=\"text-align: right;\">\n      <th></th>\n      <th>Column1</th>\n      <th>Column2</th>\n      <th>Column3</th>\n      <th>New Column2</th>\n      <th>Added Output</th>\n    </tr>\n  </thead>\n  <tbody>\n    <tr>\n      <th>3</th>\n      <td>0.603366</td>\n      <td>0.485614</td>\n      <td>0.013345</td>\n      <td>3</td>\n      <td>4</td>\n    </tr>\n    <tr>\n      <th>4</th>\n      <td>0.039985</td>\n      <td>0.236359</td>\n      <td>0.811832</td>\n      <td>4</td>\n      <td>5</td>\n    </tr>\n    <tr>\n      <th>5</th>\n      <td>0.015478</td>\n      <td>0.543641</td>\n      <td>0.112719</td>\n      <td>5</td>\n      <td>6</td>\n    </tr>\n  </tbody>\n</table>\n</div>"
     },
     "metadata": {},
     "execution_count": 35
    }
   ],
   "source": [
    "first_import.iloc[3:6,:] # iloc excludes the last instances you specify for example 6 here"
   ]
  },
  {
   "cell_type": "code",
   "execution_count": 36,
   "metadata": {},
   "outputs": [
    {
     "output_type": "execute_result",
     "data": {
      "text/plain": [
       "     show_id     type                                    title  \\\n",
       "0         s1  TV Show                                       3%   \n",
       "1         s2    Movie                                     7:19   \n",
       "2         s3    Movie                                    23:59   \n",
       "3         s4    Movie                                        9   \n",
       "4         s5    Movie                                       21   \n",
       "...      ...      ...                                      ...   \n",
       "7782   s7783    Movie                                     Zozo   \n",
       "7783   s7784    Movie                                   Zubaan   \n",
       "7784   s7785    Movie                        Zulu Man in Japan   \n",
       "7785   s7786  TV Show                    Zumbo's Just Desserts   \n",
       "7786   s7787    Movie  ZZ TOP: THAT LITTLE OL' BAND FROM TEXAS   \n",
       "\n",
       "               director                                               cast  \\\n",
       "0                   NaN  João Miguel, Bianca Comparato, Michel Gomes, R...   \n",
       "1     Jorge Michel Grau  Demián Bichir, Héctor Bonilla, Oscar Serrano, ...   \n",
       "2          Gilbert Chan  Tedd Chan, Stella Chung, Henley Hii, Lawrence ...   \n",
       "3           Shane Acker  Elijah Wood, John C. Reilly, Jennifer Connelly...   \n",
       "4        Robert Luketic  Jim Sturgess, Kevin Spacey, Kate Bosworth, Aar...   \n",
       "...                 ...                                                ...   \n",
       "7782        Josef Fares  Imad Creidi, Antoinette Turk, Elias Gergi, Car...   \n",
       "7783        Mozez Singh  Vicky Kaushal, Sarah-Jane Dias, Raaghav Chanan...   \n",
       "7784                NaN                                            Nasty C   \n",
       "7785                NaN                         Adriano Zumbo, Rachel Khoo   \n",
       "7786           Sam Dunn                                                NaN   \n",
       "\n",
       "                                                country          date_added  \\\n",
       "0                                                Brazil     August 14, 2020   \n",
       "1                                                Mexico   December 23, 2016   \n",
       "2                                             Singapore   December 20, 2018   \n",
       "3                                         United States   November 16, 2017   \n",
       "4                                         United States     January 1, 2020   \n",
       "...                                                 ...                 ...   \n",
       "7782  Sweden, Czech Republic, United Kingdom, Denmar...    October 19, 2020   \n",
       "7783                                              India       March 2, 2019   \n",
       "7784                                                NaN  September 25, 2020   \n",
       "7785                                          Australia    October 31, 2020   \n",
       "7786              United Kingdom, Canada, United States       March 1, 2020   \n",
       "\n",
       "      release_year rating   duration  \\\n",
       "0             2020  TV-MA  4 Seasons   \n",
       "1             2016  TV-MA     93 min   \n",
       "2             2011      R     78 min   \n",
       "3             2009  PG-13     80 min   \n",
       "4             2008  PG-13    123 min   \n",
       "...            ...    ...        ...   \n",
       "7782          2005  TV-MA     99 min   \n",
       "7783          2015  TV-14    111 min   \n",
       "7784          2019  TV-MA     44 min   \n",
       "7785          2019  TV-PG   1 Season   \n",
       "7786          2019  TV-MA     90 min   \n",
       "\n",
       "                                              listed_in  \\\n",
       "0     International TV Shows, TV Dramas, TV Sci-Fi &...   \n",
       "1                          Dramas, International Movies   \n",
       "2                   Horror Movies, International Movies   \n",
       "3     Action & Adventure, Independent Movies, Sci-Fi...   \n",
       "4                                                Dramas   \n",
       "...                                                 ...   \n",
       "7782                       Dramas, International Movies   \n",
       "7783     Dramas, International Movies, Music & Musicals   \n",
       "7784  Documentaries, International Movies, Music & M...   \n",
       "7785                 International TV Shows, Reality TV   \n",
       "7786                    Documentaries, Music & Musicals   \n",
       "\n",
       "                                            description  \n",
       "0     In a future where the elite inhabit an island ...  \n",
       "1     After a devastating earthquake hits Mexico Cit...  \n",
       "2     When an army recruit is found dead, his fellow...  \n",
       "3     In a postapocalyptic world, rag-doll robots hi...  \n",
       "4     A brilliant group of students become card-coun...  \n",
       "...                                                 ...  \n",
       "7782  When Lebanon's Civil War deprives Zozo of his ...  \n",
       "7783  A scrappy but poor boy worms his way into a ty...  \n",
       "7784  In this documentary, South African rapper Nast...  \n",
       "7785  Dessert wizard Adriano Zumbo looks for the nex...  \n",
       "7786  This documentary delves into the mystique behi...  \n",
       "\n",
       "[7787 rows x 12 columns]"
      ],
      "text/html": "<div>\n<style scoped>\n    .dataframe tbody tr th:only-of-type {\n        vertical-align: middle;\n    }\n\n    .dataframe tbody tr th {\n        vertical-align: top;\n    }\n\n    .dataframe thead th {\n        text-align: right;\n    }\n</style>\n<table border=\"1\" class=\"dataframe\">\n  <thead>\n    <tr style=\"text-align: right;\">\n      <th></th>\n      <th>show_id</th>\n      <th>type</th>\n      <th>title</th>\n      <th>director</th>\n      <th>cast</th>\n      <th>country</th>\n      <th>date_added</th>\n      <th>release_year</th>\n      <th>rating</th>\n      <th>duration</th>\n      <th>listed_in</th>\n      <th>description</th>\n    </tr>\n  </thead>\n  <tbody>\n    <tr>\n      <th>0</th>\n      <td>s1</td>\n      <td>TV Show</td>\n      <td>3%</td>\n      <td>NaN</td>\n      <td>João Miguel, Bianca Comparato, Michel Gomes, R...</td>\n      <td>Brazil</td>\n      <td>August 14, 2020</td>\n      <td>2020</td>\n      <td>TV-MA</td>\n      <td>4 Seasons</td>\n      <td>International TV Shows, TV Dramas, TV Sci-Fi &amp;...</td>\n      <td>In a future where the elite inhabit an island ...</td>\n    </tr>\n    <tr>\n      <th>1</th>\n      <td>s2</td>\n      <td>Movie</td>\n      <td>7:19</td>\n      <td>Jorge Michel Grau</td>\n      <td>Demián Bichir, Héctor Bonilla, Oscar Serrano, ...</td>\n      <td>Mexico</td>\n      <td>December 23, 2016</td>\n      <td>2016</td>\n      <td>TV-MA</td>\n      <td>93 min</td>\n      <td>Dramas, International Movies</td>\n      <td>After a devastating earthquake hits Mexico Cit...</td>\n    </tr>\n    <tr>\n      <th>2</th>\n      <td>s3</td>\n      <td>Movie</td>\n      <td>23:59</td>\n      <td>Gilbert Chan</td>\n      <td>Tedd Chan, Stella Chung, Henley Hii, Lawrence ...</td>\n      <td>Singapore</td>\n      <td>December 20, 2018</td>\n      <td>2011</td>\n      <td>R</td>\n      <td>78 min</td>\n      <td>Horror Movies, International Movies</td>\n      <td>When an army recruit is found dead, his fellow...</td>\n    </tr>\n    <tr>\n      <th>3</th>\n      <td>s4</td>\n      <td>Movie</td>\n      <td>9</td>\n      <td>Shane Acker</td>\n      <td>Elijah Wood, John C. Reilly, Jennifer Connelly...</td>\n      <td>United States</td>\n      <td>November 16, 2017</td>\n      <td>2009</td>\n      <td>PG-13</td>\n      <td>80 min</td>\n      <td>Action &amp; Adventure, Independent Movies, Sci-Fi...</td>\n      <td>In a postapocalyptic world, rag-doll robots hi...</td>\n    </tr>\n    <tr>\n      <th>4</th>\n      <td>s5</td>\n      <td>Movie</td>\n      <td>21</td>\n      <td>Robert Luketic</td>\n      <td>Jim Sturgess, Kevin Spacey, Kate Bosworth, Aar...</td>\n      <td>United States</td>\n      <td>January 1, 2020</td>\n      <td>2008</td>\n      <td>PG-13</td>\n      <td>123 min</td>\n      <td>Dramas</td>\n      <td>A brilliant group of students become card-coun...</td>\n    </tr>\n    <tr>\n      <th>...</th>\n      <td>...</td>\n      <td>...</td>\n      <td>...</td>\n      <td>...</td>\n      <td>...</td>\n      <td>...</td>\n      <td>...</td>\n      <td>...</td>\n      <td>...</td>\n      <td>...</td>\n      <td>...</td>\n      <td>...</td>\n    </tr>\n    <tr>\n      <th>7782</th>\n      <td>s7783</td>\n      <td>Movie</td>\n      <td>Zozo</td>\n      <td>Josef Fares</td>\n      <td>Imad Creidi, Antoinette Turk, Elias Gergi, Car...</td>\n      <td>Sweden, Czech Republic, United Kingdom, Denmar...</td>\n      <td>October 19, 2020</td>\n      <td>2005</td>\n      <td>TV-MA</td>\n      <td>99 min</td>\n      <td>Dramas, International Movies</td>\n      <td>When Lebanon's Civil War deprives Zozo of his ...</td>\n    </tr>\n    <tr>\n      <th>7783</th>\n      <td>s7784</td>\n      <td>Movie</td>\n      <td>Zubaan</td>\n      <td>Mozez Singh</td>\n      <td>Vicky Kaushal, Sarah-Jane Dias, Raaghav Chanan...</td>\n      <td>India</td>\n      <td>March 2, 2019</td>\n      <td>2015</td>\n      <td>TV-14</td>\n      <td>111 min</td>\n      <td>Dramas, International Movies, Music &amp; Musicals</td>\n      <td>A scrappy but poor boy worms his way into a ty...</td>\n    </tr>\n    <tr>\n      <th>7784</th>\n      <td>s7785</td>\n      <td>Movie</td>\n      <td>Zulu Man in Japan</td>\n      <td>NaN</td>\n      <td>Nasty C</td>\n      <td>NaN</td>\n      <td>September 25, 2020</td>\n      <td>2019</td>\n      <td>TV-MA</td>\n      <td>44 min</td>\n      <td>Documentaries, International Movies, Music &amp; M...</td>\n      <td>In this documentary, South African rapper Nast...</td>\n    </tr>\n    <tr>\n      <th>7785</th>\n      <td>s7786</td>\n      <td>TV Show</td>\n      <td>Zumbo's Just Desserts</td>\n      <td>NaN</td>\n      <td>Adriano Zumbo, Rachel Khoo</td>\n      <td>Australia</td>\n      <td>October 31, 2020</td>\n      <td>2019</td>\n      <td>TV-PG</td>\n      <td>1 Season</td>\n      <td>International TV Shows, Reality TV</td>\n      <td>Dessert wizard Adriano Zumbo looks for the nex...</td>\n    </tr>\n    <tr>\n      <th>7786</th>\n      <td>s7787</td>\n      <td>Movie</td>\n      <td>ZZ TOP: THAT LITTLE OL' BAND FROM TEXAS</td>\n      <td>Sam Dunn</td>\n      <td>NaN</td>\n      <td>United Kingdom, Canada, United States</td>\n      <td>March 1, 2020</td>\n      <td>2019</td>\n      <td>TV-MA</td>\n      <td>90 min</td>\n      <td>Documentaries, Music &amp; Musicals</td>\n      <td>This documentary delves into the mystique behi...</td>\n    </tr>\n  </tbody>\n</table>\n<p>7787 rows × 12 columns</p>\n</div>"
     },
     "metadata": {},
     "execution_count": 36
    }
   ],
   "source": [
    "netflix = pd.read_csv(pwd + \"\\\\netflix_titles.csv\")\n",
    "netflix"
   ]
  },
  {
   "cell_type": "code",
   "execution_count": 51,
   "metadata": {},
   "outputs": [
    {
     "output_type": "execute_result",
     "data": {
      "text/plain": [
       "['show_id',\n",
       " 'type',\n",
       " 'title',\n",
       " 'director',\n",
       " 'cast',\n",
       " 'country',\n",
       " 'date_added',\n",
       " 'release_year',\n",
       " 'rating',\n",
       " 'duration',\n",
       " 'listed_in',\n",
       " 'description',\n",
       " 'computer_date']"
      ]
     },
     "metadata": {},
     "execution_count": 51
    }
   ],
   "source": [
    "list(netflix.columns)"
   ]
  },
  {
   "cell_type": "code",
   "execution_count": 53,
   "metadata": {},
   "outputs": [
    {
     "output_type": "execute_result",
     "data": {
      "text/plain": [
       "       release_year\n",
       "count   7787.000000\n",
       "mean    2013.932580\n",
       "std        8.757395\n",
       "min     1925.000000\n",
       "25%     2013.000000\n",
       "50%     2017.000000\n",
       "75%     2018.000000\n",
       "max     2021.000000"
      ],
      "text/html": "<div>\n<style scoped>\n    .dataframe tbody tr th:only-of-type {\n        vertical-align: middle;\n    }\n\n    .dataframe tbody tr th {\n        vertical-align: top;\n    }\n\n    .dataframe thead th {\n        text-align: right;\n    }\n</style>\n<table border=\"1\" class=\"dataframe\">\n  <thead>\n    <tr style=\"text-align: right;\">\n      <th></th>\n      <th>release_year</th>\n    </tr>\n  </thead>\n  <tbody>\n    <tr>\n      <th>count</th>\n      <td>7787.000000</td>\n    </tr>\n    <tr>\n      <th>mean</th>\n      <td>2013.932580</td>\n    </tr>\n    <tr>\n      <th>std</th>\n      <td>8.757395</td>\n    </tr>\n    <tr>\n      <th>min</th>\n      <td>1925.000000</td>\n    </tr>\n    <tr>\n      <th>25%</th>\n      <td>2013.000000</td>\n    </tr>\n    <tr>\n      <th>50%</th>\n      <td>2017.000000</td>\n    </tr>\n    <tr>\n      <th>75%</th>\n      <td>2018.000000</td>\n    </tr>\n    <tr>\n      <th>max</th>\n      <td>2021.000000</td>\n    </tr>\n  </tbody>\n</table>\n</div>"
     },
     "metadata": {},
     "execution_count": 53
    }
   ],
   "source": [
    "netflix.describe()"
   ]
  },
  {
   "cell_type": "code",
   "execution_count": 39,
   "metadata": {},
   "outputs": [
    {
     "output_type": "execute_result",
     "data": {
      "text/plain": [
       "array(['TV Show', 'Movie'], dtype=object)"
      ]
     },
     "metadata": {},
     "execution_count": 39
    }
   ],
   "source": [
    "netflix[\"type\"].unique()"
   ]
  },
  {
   "cell_type": "code",
   "execution_count": 55,
   "metadata": {},
   "outputs": [
    {
     "output_type": "execute_result",
     "data": {
      "text/plain": [
       "     show_id   type              title                               director  \\\n",
       "2757   s2758  Movie  Hitler - A Career  Joachim Fest, Christian Herrendoerfer   \n",
       "\n",
       "     cast       country         date_added  release_year rating duration  \\\n",
       "2757  NaN  West Germany  February 10, 2017          1977  TV-MA  150 min   \n",
       "\n",
       "                                listed_in  \\\n",
       "2757  Documentaries, International Movies   \n",
       "\n",
       "                                            description computer_date  \n",
       "2757  This documentary examines how Adolf Hitler's t...    2017-02-10  "
      ],
      "text/html": "<div>\n<style scoped>\n    .dataframe tbody tr th:only-of-type {\n        vertical-align: middle;\n    }\n\n    .dataframe tbody tr th {\n        vertical-align: top;\n    }\n\n    .dataframe thead th {\n        text-align: right;\n    }\n</style>\n<table border=\"1\" class=\"dataframe\">\n  <thead>\n    <tr style=\"text-align: right;\">\n      <th></th>\n      <th>show_id</th>\n      <th>type</th>\n      <th>title</th>\n      <th>director</th>\n      <th>cast</th>\n      <th>country</th>\n      <th>date_added</th>\n      <th>release_year</th>\n      <th>rating</th>\n      <th>duration</th>\n      <th>listed_in</th>\n      <th>description</th>\n      <th>computer_date</th>\n    </tr>\n  </thead>\n  <tbody>\n    <tr>\n      <th>2757</th>\n      <td>s2758</td>\n      <td>Movie</td>\n      <td>Hitler - A Career</td>\n      <td>Joachim Fest, Christian Herrendoerfer</td>\n      <td>NaN</td>\n      <td>West Germany</td>\n      <td>February 10, 2017</td>\n      <td>1977</td>\n      <td>TV-MA</td>\n      <td>150 min</td>\n      <td>Documentaries, International Movies</td>\n      <td>This documentary examines how Adolf Hitler's t...</td>\n      <td>2017-02-10</td>\n    </tr>\n  </tbody>\n</table>\n</div>"
     },
     "metadata": {},
     "execution_count": 55
    }
   ],
   "source": [
    "netflix[netflix[\"country\"] == \"West Germany\"]"
   ]
  },
  {
   "cell_type": "code",
   "execution_count": 41,
   "metadata": {},
   "outputs": [
    {
     "output_type": "execute_result",
     "data": {
      "text/plain": [
       "     show_id     type                           title       director  \\\n",
       "2093   s2094    Movie      Fakkah Fuzz: Almost Banned  Michael McKay   \n",
       "2956   s2957    Movie                       Imperfect    Steve Cheng   \n",
       "3528   s3529    Movie                       Lang Tong        Sam Loh   \n",
       "4138   s4139    Movie  Miss J Contemplates Her Choice      Jason Lai   \n",
       "6949   s6950  TV Show               The Truth Seekers            NaN   \n",
       "\n",
       "                                                   cast    country  \\\n",
       "2093                                        Fakkah Fuzz  Singapore   \n",
       "2956  Edwin Goh, Ian Fang Weijie, Phua Yida, Kimberl...  Singapore   \n",
       "3528  William Lawandi, Angeline Yap, Vivienne Tseng,...  Singapore   \n",
       "4138  Kit Chan, Xiang Yun, Bobby Tonelli, Shane Pow,...  Singapore   \n",
       "6949  Chen Hanwei, Rebecca Lim, Desmond Tan, Yusuke ...  Singapore   \n",
       "\n",
       "             date_added  release_year rating  duration  \\\n",
       "2093   January 26, 2018          2018  TV-MA    61 min   \n",
       "2956  December 20, 2018          2012  TV-MA    95 min   \n",
       "3528  December 20, 2018          2015  TV-MA    82 min   \n",
       "4138  December 20, 2018          2014  TV-MA    89 min   \n",
       "6949       July 1, 2017          2016  TV-MA  1 Season   \n",
       "\n",
       "                                              listed_in  \\\n",
       "2093                                    Stand-Up Comedy   \n",
       "2956           Action & Adventure, International Movies   \n",
       "3528                    International Movies, Thrillers   \n",
       "4138            Dramas, International Movies, Thrillers   \n",
       "6949  Crime TV Shows, International TV Shows, TV Dramas   \n",
       "\n",
       "                                            description  \n",
       "2093  Stand-up comic Fakkah Fuzz mines cross-cultura...  \n",
       "2956  After a brawl lands him in a Boys’ Home, a tee...  \n",
       "3528  After seducing a philandering con man, a rebel...  \n",
       "4138  The life of a radio talk-show host is turned u...  \n",
       "6949  A veteran cop forms an agency dedicated to sol...  "
      ],
      "text/html": "<div>\n<style scoped>\n    .dataframe tbody tr th:only-of-type {\n        vertical-align: middle;\n    }\n\n    .dataframe tbody tr th {\n        vertical-align: top;\n    }\n\n    .dataframe thead th {\n        text-align: right;\n    }\n</style>\n<table border=\"1\" class=\"dataframe\">\n  <thead>\n    <tr style=\"text-align: right;\">\n      <th></th>\n      <th>show_id</th>\n      <th>type</th>\n      <th>title</th>\n      <th>director</th>\n      <th>cast</th>\n      <th>country</th>\n      <th>date_added</th>\n      <th>release_year</th>\n      <th>rating</th>\n      <th>duration</th>\n      <th>listed_in</th>\n      <th>description</th>\n    </tr>\n  </thead>\n  <tbody>\n    <tr>\n      <th>2093</th>\n      <td>s2094</td>\n      <td>Movie</td>\n      <td>Fakkah Fuzz: Almost Banned</td>\n      <td>Michael McKay</td>\n      <td>Fakkah Fuzz</td>\n      <td>Singapore</td>\n      <td>January 26, 2018</td>\n      <td>2018</td>\n      <td>TV-MA</td>\n      <td>61 min</td>\n      <td>Stand-Up Comedy</td>\n      <td>Stand-up comic Fakkah Fuzz mines cross-cultura...</td>\n    </tr>\n    <tr>\n      <th>2956</th>\n      <td>s2957</td>\n      <td>Movie</td>\n      <td>Imperfect</td>\n      <td>Steve Cheng</td>\n      <td>Edwin Goh, Ian Fang Weijie, Phua Yida, Kimberl...</td>\n      <td>Singapore</td>\n      <td>December 20, 2018</td>\n      <td>2012</td>\n      <td>TV-MA</td>\n      <td>95 min</td>\n      <td>Action &amp; Adventure, International Movies</td>\n      <td>After a brawl lands him in a Boys’ Home, a tee...</td>\n    </tr>\n    <tr>\n      <th>3528</th>\n      <td>s3529</td>\n      <td>Movie</td>\n      <td>Lang Tong</td>\n      <td>Sam Loh</td>\n      <td>William Lawandi, Angeline Yap, Vivienne Tseng,...</td>\n      <td>Singapore</td>\n      <td>December 20, 2018</td>\n      <td>2015</td>\n      <td>TV-MA</td>\n      <td>82 min</td>\n      <td>International Movies, Thrillers</td>\n      <td>After seducing a philandering con man, a rebel...</td>\n    </tr>\n    <tr>\n      <th>4138</th>\n      <td>s4139</td>\n      <td>Movie</td>\n      <td>Miss J Contemplates Her Choice</td>\n      <td>Jason Lai</td>\n      <td>Kit Chan, Xiang Yun, Bobby Tonelli, Shane Pow,...</td>\n      <td>Singapore</td>\n      <td>December 20, 2018</td>\n      <td>2014</td>\n      <td>TV-MA</td>\n      <td>89 min</td>\n      <td>Dramas, International Movies, Thrillers</td>\n      <td>The life of a radio talk-show host is turned u...</td>\n    </tr>\n    <tr>\n      <th>6949</th>\n      <td>s6950</td>\n      <td>TV Show</td>\n      <td>The Truth Seekers</td>\n      <td>NaN</td>\n      <td>Chen Hanwei, Rebecca Lim, Desmond Tan, Yusuke ...</td>\n      <td>Singapore</td>\n      <td>July 1, 2017</td>\n      <td>2016</td>\n      <td>TV-MA</td>\n      <td>1 Season</td>\n      <td>Crime TV Shows, International TV Shows, TV Dramas</td>\n      <td>A veteran cop forms an agency dedicated to sol...</td>\n    </tr>\n  </tbody>\n</table>\n</div>"
     },
     "metadata": {},
     "execution_count": 41
    }
   ],
   "source": [
    "netflix[(netflix[\"country\"] == \"Singapore\") & (netflix[\"rating\"] == \"TV-MA\")]"
   ]
  },
  {
   "cell_type": "code",
   "execution_count": 42,
   "metadata": {},
   "outputs": [
    {
     "output_type": "execute_result",
     "data": {
      "text/plain": [
       "0      2020-08-14\n",
       "1      2016-12-23\n",
       "2      2018-12-20\n",
       "3      2017-11-16\n",
       "4      2020-01-01\n",
       "          ...    \n",
       "7782   2020-10-19\n",
       "7783   2019-03-02\n",
       "7784   2020-09-25\n",
       "7785   2020-10-31\n",
       "7786   2020-03-01\n",
       "Name: computer_date, Length: 7787, dtype: datetime64[ns]"
      ]
     },
     "metadata": {},
     "execution_count": 42
    }
   ],
   "source": [
    "netflix[\"computer_date\"] = pd.to_datetime(netflix[\"date_added\"])\n",
    "netflix[\"computer_date\"]"
   ]
  },
  {
   "cell_type": "code",
   "execution_count": 43,
   "metadata": {},
   "outputs": [],
   "source": [
    "from datetime import datetime as dt \n"
   ]
  },
  {
   "cell_type": "code",
   "execution_count": 44,
   "metadata": {},
   "outputs": [
    {
     "output_type": "execute_result",
     "data": {
      "text/plain": [
       "     show_id     type                                    title  \\\n",
       "0         s1  TV Show                                       3%   \n",
       "1         s2    Movie                                     7:19   \n",
       "2         s3    Movie                                    23:59   \n",
       "3         s4    Movie                                        9   \n",
       "4         s5    Movie                                       21   \n",
       "...      ...      ...                                      ...   \n",
       "7782   s7783    Movie                                     Zozo   \n",
       "7783   s7784    Movie                                   Zubaan   \n",
       "7784   s7785    Movie                        Zulu Man in Japan   \n",
       "7785   s7786  TV Show                    Zumbo's Just Desserts   \n",
       "7786   s7787    Movie  ZZ TOP: THAT LITTLE OL' BAND FROM TEXAS   \n",
       "\n",
       "               director                                               cast  \\\n",
       "0                   NaN  João Miguel, Bianca Comparato, Michel Gomes, R...   \n",
       "1     Jorge Michel Grau  Demián Bichir, Héctor Bonilla, Oscar Serrano, ...   \n",
       "2          Gilbert Chan  Tedd Chan, Stella Chung, Henley Hii, Lawrence ...   \n",
       "3           Shane Acker  Elijah Wood, John C. Reilly, Jennifer Connelly...   \n",
       "4        Robert Luketic  Jim Sturgess, Kevin Spacey, Kate Bosworth, Aar...   \n",
       "...                 ...                                                ...   \n",
       "7782        Josef Fares  Imad Creidi, Antoinette Turk, Elias Gergi, Car...   \n",
       "7783        Mozez Singh  Vicky Kaushal, Sarah-Jane Dias, Raaghav Chanan...   \n",
       "7784                NaN                                            Nasty C   \n",
       "7785                NaN                         Adriano Zumbo, Rachel Khoo   \n",
       "7786           Sam Dunn                                                NaN   \n",
       "\n",
       "                                                country          date_added  \\\n",
       "0                                                Brazil     August 14, 2020   \n",
       "1                                                Mexico   December 23, 2016   \n",
       "2                                             Singapore   December 20, 2018   \n",
       "3                                         United States   November 16, 2017   \n",
       "4                                         United States     January 1, 2020   \n",
       "...                                                 ...                 ...   \n",
       "7782  Sweden, Czech Republic, United Kingdom, Denmar...    October 19, 2020   \n",
       "7783                                              India       March 2, 2019   \n",
       "7784                                                NaN  September 25, 2020   \n",
       "7785                                          Australia    October 31, 2020   \n",
       "7786              United Kingdom, Canada, United States       March 1, 2020   \n",
       "\n",
       "      release_year rating   duration  \\\n",
       "0             2020  TV-MA  4 Seasons   \n",
       "1             2016  TV-MA     93 min   \n",
       "2             2011      R     78 min   \n",
       "3             2009  PG-13     80 min   \n",
       "4             2008  PG-13    123 min   \n",
       "...            ...    ...        ...   \n",
       "7782          2005  TV-MA     99 min   \n",
       "7783          2015  TV-14    111 min   \n",
       "7784          2019  TV-MA     44 min   \n",
       "7785          2019  TV-PG   1 Season   \n",
       "7786          2019  TV-MA     90 min   \n",
       "\n",
       "                                              listed_in  \\\n",
       "0     International TV Shows, TV Dramas, TV Sci-Fi &...   \n",
       "1                          Dramas, International Movies   \n",
       "2                   Horror Movies, International Movies   \n",
       "3     Action & Adventure, Independent Movies, Sci-Fi...   \n",
       "4                                                Dramas   \n",
       "...                                                 ...   \n",
       "7782                       Dramas, International Movies   \n",
       "7783     Dramas, International Movies, Music & Musicals   \n",
       "7784  Documentaries, International Movies, Music & M...   \n",
       "7785                 International TV Shows, Reality TV   \n",
       "7786                    Documentaries, Music & Musicals   \n",
       "\n",
       "                                            description computer_date  \n",
       "0     In a future where the elite inhabit an island ...    2020-08-14  \n",
       "1     After a devastating earthquake hits Mexico Cit...    2016-12-23  \n",
       "2     When an army recruit is found dead, his fellow...    2018-12-20  \n",
       "3     In a postapocalyptic world, rag-doll robots hi...    2017-11-16  \n",
       "4     A brilliant group of students become card-coun...    2020-01-01  \n",
       "...                                                 ...           ...  \n",
       "7782  When Lebanon's Civil War deprives Zozo of his ...    2020-10-19  \n",
       "7783  A scrappy but poor boy worms his way into a ty...    2019-03-02  \n",
       "7784  In this documentary, South African rapper Nast...    2020-09-25  \n",
       "7785  Dessert wizard Adriano Zumbo looks for the nex...    2020-10-31  \n",
       "7786  This documentary delves into the mystique behi...    2020-03-01  \n",
       "\n",
       "[7787 rows x 13 columns]"
      ],
      "text/html": "<div>\n<style scoped>\n    .dataframe tbody tr th:only-of-type {\n        vertical-align: middle;\n    }\n\n    .dataframe tbody tr th {\n        vertical-align: top;\n    }\n\n    .dataframe thead th {\n        text-align: right;\n    }\n</style>\n<table border=\"1\" class=\"dataframe\">\n  <thead>\n    <tr style=\"text-align: right;\">\n      <th></th>\n      <th>show_id</th>\n      <th>type</th>\n      <th>title</th>\n      <th>director</th>\n      <th>cast</th>\n      <th>country</th>\n      <th>date_added</th>\n      <th>release_year</th>\n      <th>rating</th>\n      <th>duration</th>\n      <th>listed_in</th>\n      <th>description</th>\n      <th>computer_date</th>\n    </tr>\n  </thead>\n  <tbody>\n    <tr>\n      <th>0</th>\n      <td>s1</td>\n      <td>TV Show</td>\n      <td>3%</td>\n      <td>NaN</td>\n      <td>João Miguel, Bianca Comparato, Michel Gomes, R...</td>\n      <td>Brazil</td>\n      <td>August 14, 2020</td>\n      <td>2020</td>\n      <td>TV-MA</td>\n      <td>4 Seasons</td>\n      <td>International TV Shows, TV Dramas, TV Sci-Fi &amp;...</td>\n      <td>In a future where the elite inhabit an island ...</td>\n      <td>2020-08-14</td>\n    </tr>\n    <tr>\n      <th>1</th>\n      <td>s2</td>\n      <td>Movie</td>\n      <td>7:19</td>\n      <td>Jorge Michel Grau</td>\n      <td>Demián Bichir, Héctor Bonilla, Oscar Serrano, ...</td>\n      <td>Mexico</td>\n      <td>December 23, 2016</td>\n      <td>2016</td>\n      <td>TV-MA</td>\n      <td>93 min</td>\n      <td>Dramas, International Movies</td>\n      <td>After a devastating earthquake hits Mexico Cit...</td>\n      <td>2016-12-23</td>\n    </tr>\n    <tr>\n      <th>2</th>\n      <td>s3</td>\n      <td>Movie</td>\n      <td>23:59</td>\n      <td>Gilbert Chan</td>\n      <td>Tedd Chan, Stella Chung, Henley Hii, Lawrence ...</td>\n      <td>Singapore</td>\n      <td>December 20, 2018</td>\n      <td>2011</td>\n      <td>R</td>\n      <td>78 min</td>\n      <td>Horror Movies, International Movies</td>\n      <td>When an army recruit is found dead, his fellow...</td>\n      <td>2018-12-20</td>\n    </tr>\n    <tr>\n      <th>3</th>\n      <td>s4</td>\n      <td>Movie</td>\n      <td>9</td>\n      <td>Shane Acker</td>\n      <td>Elijah Wood, John C. Reilly, Jennifer Connelly...</td>\n      <td>United States</td>\n      <td>November 16, 2017</td>\n      <td>2009</td>\n      <td>PG-13</td>\n      <td>80 min</td>\n      <td>Action &amp; Adventure, Independent Movies, Sci-Fi...</td>\n      <td>In a postapocalyptic world, rag-doll robots hi...</td>\n      <td>2017-11-16</td>\n    </tr>\n    <tr>\n      <th>4</th>\n      <td>s5</td>\n      <td>Movie</td>\n      <td>21</td>\n      <td>Robert Luketic</td>\n      <td>Jim Sturgess, Kevin Spacey, Kate Bosworth, Aar...</td>\n      <td>United States</td>\n      <td>January 1, 2020</td>\n      <td>2008</td>\n      <td>PG-13</td>\n      <td>123 min</td>\n      <td>Dramas</td>\n      <td>A brilliant group of students become card-coun...</td>\n      <td>2020-01-01</td>\n    </tr>\n    <tr>\n      <th>...</th>\n      <td>...</td>\n      <td>...</td>\n      <td>...</td>\n      <td>...</td>\n      <td>...</td>\n      <td>...</td>\n      <td>...</td>\n      <td>...</td>\n      <td>...</td>\n      <td>...</td>\n      <td>...</td>\n      <td>...</td>\n      <td>...</td>\n    </tr>\n    <tr>\n      <th>7782</th>\n      <td>s7783</td>\n      <td>Movie</td>\n      <td>Zozo</td>\n      <td>Josef Fares</td>\n      <td>Imad Creidi, Antoinette Turk, Elias Gergi, Car...</td>\n      <td>Sweden, Czech Republic, United Kingdom, Denmar...</td>\n      <td>October 19, 2020</td>\n      <td>2005</td>\n      <td>TV-MA</td>\n      <td>99 min</td>\n      <td>Dramas, International Movies</td>\n      <td>When Lebanon's Civil War deprives Zozo of his ...</td>\n      <td>2020-10-19</td>\n    </tr>\n    <tr>\n      <th>7783</th>\n      <td>s7784</td>\n      <td>Movie</td>\n      <td>Zubaan</td>\n      <td>Mozez Singh</td>\n      <td>Vicky Kaushal, Sarah-Jane Dias, Raaghav Chanan...</td>\n      <td>India</td>\n      <td>March 2, 2019</td>\n      <td>2015</td>\n      <td>TV-14</td>\n      <td>111 min</td>\n      <td>Dramas, International Movies, Music &amp; Musicals</td>\n      <td>A scrappy but poor boy worms his way into a ty...</td>\n      <td>2019-03-02</td>\n    </tr>\n    <tr>\n      <th>7784</th>\n      <td>s7785</td>\n      <td>Movie</td>\n      <td>Zulu Man in Japan</td>\n      <td>NaN</td>\n      <td>Nasty C</td>\n      <td>NaN</td>\n      <td>September 25, 2020</td>\n      <td>2019</td>\n      <td>TV-MA</td>\n      <td>44 min</td>\n      <td>Documentaries, International Movies, Music &amp; M...</td>\n      <td>In this documentary, South African rapper Nast...</td>\n      <td>2020-09-25</td>\n    </tr>\n    <tr>\n      <th>7785</th>\n      <td>s7786</td>\n      <td>TV Show</td>\n      <td>Zumbo's Just Desserts</td>\n      <td>NaN</td>\n      <td>Adriano Zumbo, Rachel Khoo</td>\n      <td>Australia</td>\n      <td>October 31, 2020</td>\n      <td>2019</td>\n      <td>TV-PG</td>\n      <td>1 Season</td>\n      <td>International TV Shows, Reality TV</td>\n      <td>Dessert wizard Adriano Zumbo looks for the nex...</td>\n      <td>2020-10-31</td>\n    </tr>\n    <tr>\n      <th>7786</th>\n      <td>s7787</td>\n      <td>Movie</td>\n      <td>ZZ TOP: THAT LITTLE OL' BAND FROM TEXAS</td>\n      <td>Sam Dunn</td>\n      <td>NaN</td>\n      <td>United Kingdom, Canada, United States</td>\n      <td>March 1, 2020</td>\n      <td>2019</td>\n      <td>TV-MA</td>\n      <td>90 min</td>\n      <td>Documentaries, Music &amp; Musicals</td>\n      <td>This documentary delves into the mystique behi...</td>\n      <td>2020-03-01</td>\n    </tr>\n  </tbody>\n</table>\n<p>7787 rows × 13 columns</p>\n</div>"
     },
     "metadata": {},
     "execution_count": 44
    }
   ],
   "source": [
    "netflix[\"computer_date\"].fillna(dt(2020,1,1), inplace=True)\n",
    "netflix\n"
   ]
  },
  {
   "cell_type": "code",
   "execution_count": 45,
   "metadata": {},
   "outputs": [
    {
     "output_type": "execute_result",
     "data": {
      "text/plain": [
       "0      2020-08-14\n",
       "1      2016-12-23\n",
       "2      2018-12-20\n",
       "3      2017-11-16\n",
       "4      2020-01-01\n",
       "          ...    \n",
       "7782   2020-10-19\n",
       "7783   2019-03-02\n",
       "7784   2020-09-25\n",
       "7785   2020-10-31\n",
       "7786   2020-03-01\n",
       "Name: computer_date, Length: 7787, dtype: datetime64[ns]"
      ]
     },
     "metadata": {},
     "execution_count": 45
    }
   ],
   "source": [
    "netflix[\"computer_date\"]"
   ]
  },
  {
   "cell_type": "code",
   "execution_count": 46,
   "metadata": {},
   "outputs": [
    {
     "output_type": "execute_result",
     "data": {
      "text/plain": [
       "0      2020-08-14\n",
       "1      2016-12-23\n",
       "2      2018-12-20\n",
       "3      2017-11-16\n",
       "4      2020-01-01\n",
       "          ...    \n",
       "7782   2020-10-19\n",
       "7783   2019-03-02\n",
       "7784   2020-09-25\n",
       "7785   2020-10-31\n",
       "7786   2020-03-01\n",
       "Name: computer_date, Length: 7787, dtype: datetime64[ns]"
      ]
     },
     "metadata": {},
     "execution_count": 46
    }
   ],
   "source": [
    "netflix[\"computer_date\"].dropna()"
   ]
  },
  {
   "cell_type": "code",
   "execution_count": 58,
   "metadata": {},
   "outputs": [
    {
     "output_type": "execute_result",
     "data": {
      "text/plain": [
       "     show_id     type                                    title  \\\n",
       "0         s1  TV Show                                       3%   \n",
       "1         s2    Movie                                     7:19   \n",
       "2         s3    Movie                                    23:59   \n",
       "3         s4    Movie                                        9   \n",
       "4         s5    Movie                                       21   \n",
       "...      ...      ...                                      ...   \n",
       "7782   s7783    Movie                                     Zozo   \n",
       "7783   s7784    Movie                                   Zubaan   \n",
       "7784   s7785    Movie                        Zulu Man in Japan   \n",
       "7785   s7786  TV Show                    Zumbo's Just Desserts   \n",
       "7786   s7787    Movie  ZZ TOP: THAT LITTLE OL' BAND FROM TEXAS   \n",
       "\n",
       "               director                                               cast  \\\n",
       "0                   NaN  João Miguel, Bianca Comparato, Michel Gomes, R...   \n",
       "1     Jorge Michel Grau  Demián Bichir, Héctor Bonilla, Oscar Serrano, ...   \n",
       "2          Gilbert Chan  Tedd Chan, Stella Chung, Henley Hii, Lawrence ...   \n",
       "3           Shane Acker  Elijah Wood, John C. Reilly, Jennifer Connelly...   \n",
       "4        Robert Luketic  Jim Sturgess, Kevin Spacey, Kate Bosworth, Aar...   \n",
       "...                 ...                                                ...   \n",
       "7782        Josef Fares  Imad Creidi, Antoinette Turk, Elias Gergi, Car...   \n",
       "7783        Mozez Singh  Vicky Kaushal, Sarah-Jane Dias, Raaghav Chanan...   \n",
       "7784                NaN                                            Nasty C   \n",
       "7785                NaN                         Adriano Zumbo, Rachel Khoo   \n",
       "7786           Sam Dunn                                                NaN   \n",
       "\n",
       "                                                country          date_added  \\\n",
       "0                                                Brazil     August 14, 2020   \n",
       "1                                                Mexico   December 23, 2016   \n",
       "2                                             Singapore   December 20, 2018   \n",
       "3                                         United States   November 16, 2017   \n",
       "4                                         United States     January 1, 2020   \n",
       "...                                                 ...                 ...   \n",
       "7782  Sweden, Czech Republic, United Kingdom, Denmar...    October 19, 2020   \n",
       "7783                                              India       March 2, 2019   \n",
       "7784                                                NaN  September 25, 2020   \n",
       "7785                                          Australia    October 31, 2020   \n",
       "7786              United Kingdom, Canada, United States       March 1, 2020   \n",
       "\n",
       "      release_year rating   duration  \\\n",
       "0             2020  TV-MA  4 Seasons   \n",
       "1             2016  TV-MA     93 min   \n",
       "2             2011      R     78 min   \n",
       "3             2009  PG-13     80 min   \n",
       "4             2008  PG-13    123 min   \n",
       "...            ...    ...        ...   \n",
       "7782          2005  TV-MA     99 min   \n",
       "7783          2015  TV-14    111 min   \n",
       "7784          2019  TV-MA     44 min   \n",
       "7785          2019  TV-PG   1 Season   \n",
       "7786          2019  TV-MA     90 min   \n",
       "\n",
       "                                              listed_in  \\\n",
       "0     International TV Shows, TV Dramas, TV Sci-Fi &...   \n",
       "1                          Dramas, International Movies   \n",
       "2                   Horror Movies, International Movies   \n",
       "3     Action & Adventure, Independent Movies, Sci-Fi...   \n",
       "4                                                Dramas   \n",
       "...                                                 ...   \n",
       "7782                       Dramas, International Movies   \n",
       "7783     Dramas, International Movies, Music & Musicals   \n",
       "7784  Documentaries, International Movies, Music & M...   \n",
       "7785                 International TV Shows, Reality TV   \n",
       "7786                    Documentaries, Music & Musicals   \n",
       "\n",
       "                                            description computer_date  \n",
       "0     In a future where the elite inhabit an island ...    2020-08-14  \n",
       "1     After a devastating earthquake hits Mexico Cit...    2016-12-23  \n",
       "2     When an army recruit is found dead, his fellow...    2018-12-20  \n",
       "3     In a postapocalyptic world, rag-doll robots hi...    2017-11-16  \n",
       "4     A brilliant group of students become card-coun...    2020-01-01  \n",
       "...                                                 ...           ...  \n",
       "7782  When Lebanon's Civil War deprives Zozo of his ...    2020-10-19  \n",
       "7783  A scrappy but poor boy worms his way into a ty...    2019-03-02  \n",
       "7784  In this documentary, South African rapper Nast...    2020-09-25  \n",
       "7785  Dessert wizard Adriano Zumbo looks for the nex...    2020-10-31  \n",
       "7786  This documentary delves into the mystique behi...    2020-03-01  \n",
       "\n",
       "[7787 rows x 13 columns]"
      ],
      "text/html": "<div>\n<style scoped>\n    .dataframe tbody tr th:only-of-type {\n        vertical-align: middle;\n    }\n\n    .dataframe tbody tr th {\n        vertical-align: top;\n    }\n\n    .dataframe thead th {\n        text-align: right;\n    }\n</style>\n<table border=\"1\" class=\"dataframe\">\n  <thead>\n    <tr style=\"text-align: right;\">\n      <th></th>\n      <th>show_id</th>\n      <th>type</th>\n      <th>title</th>\n      <th>director</th>\n      <th>cast</th>\n      <th>country</th>\n      <th>date_added</th>\n      <th>release_year</th>\n      <th>rating</th>\n      <th>duration</th>\n      <th>listed_in</th>\n      <th>description</th>\n      <th>computer_date</th>\n    </tr>\n  </thead>\n  <tbody>\n    <tr>\n      <th>0</th>\n      <td>s1</td>\n      <td>TV Show</td>\n      <td>3%</td>\n      <td>NaN</td>\n      <td>João Miguel, Bianca Comparato, Michel Gomes, R...</td>\n      <td>Brazil</td>\n      <td>August 14, 2020</td>\n      <td>2020</td>\n      <td>TV-MA</td>\n      <td>4 Seasons</td>\n      <td>International TV Shows, TV Dramas, TV Sci-Fi &amp;...</td>\n      <td>In a future where the elite inhabit an island ...</td>\n      <td>2020-08-14</td>\n    </tr>\n    <tr>\n      <th>1</th>\n      <td>s2</td>\n      <td>Movie</td>\n      <td>7:19</td>\n      <td>Jorge Michel Grau</td>\n      <td>Demián Bichir, Héctor Bonilla, Oscar Serrano, ...</td>\n      <td>Mexico</td>\n      <td>December 23, 2016</td>\n      <td>2016</td>\n      <td>TV-MA</td>\n      <td>93 min</td>\n      <td>Dramas, International Movies</td>\n      <td>After a devastating earthquake hits Mexico Cit...</td>\n      <td>2016-12-23</td>\n    </tr>\n    <tr>\n      <th>2</th>\n      <td>s3</td>\n      <td>Movie</td>\n      <td>23:59</td>\n      <td>Gilbert Chan</td>\n      <td>Tedd Chan, Stella Chung, Henley Hii, Lawrence ...</td>\n      <td>Singapore</td>\n      <td>December 20, 2018</td>\n      <td>2011</td>\n      <td>R</td>\n      <td>78 min</td>\n      <td>Horror Movies, International Movies</td>\n      <td>When an army recruit is found dead, his fellow...</td>\n      <td>2018-12-20</td>\n    </tr>\n    <tr>\n      <th>3</th>\n      <td>s4</td>\n      <td>Movie</td>\n      <td>9</td>\n      <td>Shane Acker</td>\n      <td>Elijah Wood, John C. Reilly, Jennifer Connelly...</td>\n      <td>United States</td>\n      <td>November 16, 2017</td>\n      <td>2009</td>\n      <td>PG-13</td>\n      <td>80 min</td>\n      <td>Action &amp; Adventure, Independent Movies, Sci-Fi...</td>\n      <td>In a postapocalyptic world, rag-doll robots hi...</td>\n      <td>2017-11-16</td>\n    </tr>\n    <tr>\n      <th>4</th>\n      <td>s5</td>\n      <td>Movie</td>\n      <td>21</td>\n      <td>Robert Luketic</td>\n      <td>Jim Sturgess, Kevin Spacey, Kate Bosworth, Aar...</td>\n      <td>United States</td>\n      <td>January 1, 2020</td>\n      <td>2008</td>\n      <td>PG-13</td>\n      <td>123 min</td>\n      <td>Dramas</td>\n      <td>A brilliant group of students become card-coun...</td>\n      <td>2020-01-01</td>\n    </tr>\n    <tr>\n      <th>...</th>\n      <td>...</td>\n      <td>...</td>\n      <td>...</td>\n      <td>...</td>\n      <td>...</td>\n      <td>...</td>\n      <td>...</td>\n      <td>...</td>\n      <td>...</td>\n      <td>...</td>\n      <td>...</td>\n      <td>...</td>\n      <td>...</td>\n    </tr>\n    <tr>\n      <th>7782</th>\n      <td>s7783</td>\n      <td>Movie</td>\n      <td>Zozo</td>\n      <td>Josef Fares</td>\n      <td>Imad Creidi, Antoinette Turk, Elias Gergi, Car...</td>\n      <td>Sweden, Czech Republic, United Kingdom, Denmar...</td>\n      <td>October 19, 2020</td>\n      <td>2005</td>\n      <td>TV-MA</td>\n      <td>99 min</td>\n      <td>Dramas, International Movies</td>\n      <td>When Lebanon's Civil War deprives Zozo of his ...</td>\n      <td>2020-10-19</td>\n    </tr>\n    <tr>\n      <th>7783</th>\n      <td>s7784</td>\n      <td>Movie</td>\n      <td>Zubaan</td>\n      <td>Mozez Singh</td>\n      <td>Vicky Kaushal, Sarah-Jane Dias, Raaghav Chanan...</td>\n      <td>India</td>\n      <td>March 2, 2019</td>\n      <td>2015</td>\n      <td>TV-14</td>\n      <td>111 min</td>\n      <td>Dramas, International Movies, Music &amp; Musicals</td>\n      <td>A scrappy but poor boy worms his way into a ty...</td>\n      <td>2019-03-02</td>\n    </tr>\n    <tr>\n      <th>7784</th>\n      <td>s7785</td>\n      <td>Movie</td>\n      <td>Zulu Man in Japan</td>\n      <td>NaN</td>\n      <td>Nasty C</td>\n      <td>NaN</td>\n      <td>September 25, 2020</td>\n      <td>2019</td>\n      <td>TV-MA</td>\n      <td>44 min</td>\n      <td>Documentaries, International Movies, Music &amp; M...</td>\n      <td>In this documentary, South African rapper Nast...</td>\n      <td>2020-09-25</td>\n    </tr>\n    <tr>\n      <th>7785</th>\n      <td>s7786</td>\n      <td>TV Show</td>\n      <td>Zumbo's Just Desserts</td>\n      <td>NaN</td>\n      <td>Adriano Zumbo, Rachel Khoo</td>\n      <td>Australia</td>\n      <td>October 31, 2020</td>\n      <td>2019</td>\n      <td>TV-PG</td>\n      <td>1 Season</td>\n      <td>International TV Shows, Reality TV</td>\n      <td>Dessert wizard Adriano Zumbo looks for the nex...</td>\n      <td>2020-10-31</td>\n    </tr>\n    <tr>\n      <th>7786</th>\n      <td>s7787</td>\n      <td>Movie</td>\n      <td>ZZ TOP: THAT LITTLE OL' BAND FROM TEXAS</td>\n      <td>Sam Dunn</td>\n      <td>NaN</td>\n      <td>United Kingdom, Canada, United States</td>\n      <td>March 1, 2020</td>\n      <td>2019</td>\n      <td>TV-MA</td>\n      <td>90 min</td>\n      <td>Documentaries, Music &amp; Musicals</td>\n      <td>This documentary delves into the mystique behi...</td>\n      <td>2020-03-01</td>\n    </tr>\n  </tbody>\n</table>\n<p>7787 rows × 13 columns</p>\n</div>"
     },
     "metadata": {},
     "execution_count": 58
    }
   ],
   "source": [
    "#netflix[\"unix_time\"] = netflix[\"computer_date\"].astype(int) # for some reason its throwing an error in windows \n",
    "netflix"
   ]
  },
  {
   "cell_type": "code",
   "execution_count": 65,
   "metadata": {},
   "outputs": [
    {
     "output_type": "execute_result",
     "data": {
      "text/plain": [
       "     show_id     type                                    title  \\\n",
       "0         s1  TV Show                                       3%   \n",
       "1         s2    Movie                                     7:19   \n",
       "2         s3    Movie                                    23:59   \n",
       "3         s4    Movie                                        9   \n",
       "4         s5    Movie                                       21   \n",
       "...      ...      ...                                      ...   \n",
       "7782   s7783    Movie                                     Zozo   \n",
       "7783   s7784    Movie                                   Zubaan   \n",
       "7784   s7785    Movie                        Zulu Man in Japan   \n",
       "7785   s7786  TV Show                    Zumbo's Just Desserts   \n",
       "7786   s7787    Movie  ZZ TOP: THAT LITTLE OL' BAND FROM TEXAS   \n",
       "\n",
       "               director                                               cast  \\\n",
       "0                   NaN  João Miguel, Bianca Comparato, Michel Gomes, R...   \n",
       "1     Jorge Michel Grau  Demián Bichir, Héctor Bonilla, Oscar Serrano, ...   \n",
       "2          Gilbert Chan  Tedd Chan, Stella Chung, Henley Hii, Lawrence ...   \n",
       "3           Shane Acker  Elijah Wood, John C. Reilly, Jennifer Connelly...   \n",
       "4        Robert Luketic  Jim Sturgess, Kevin Spacey, Kate Bosworth, Aar...   \n",
       "...                 ...                                                ...   \n",
       "7782        Josef Fares  Imad Creidi, Antoinette Turk, Elias Gergi, Car...   \n",
       "7783        Mozez Singh  Vicky Kaushal, Sarah-Jane Dias, Raaghav Chanan...   \n",
       "7784                NaN                                            Nasty C   \n",
       "7785                NaN                         Adriano Zumbo, Rachel Khoo   \n",
       "7786           Sam Dunn                                                NaN   \n",
       "\n",
       "                                                country          date_added  \\\n",
       "0                                                Brazil     August 14, 2020   \n",
       "1                                                Mexico   December 23, 2016   \n",
       "2                                             Singapore   December 20, 2018   \n",
       "3                                         United States   November 16, 2017   \n",
       "4                                         United States     January 1, 2020   \n",
       "...                                                 ...                 ...   \n",
       "7782  Sweden, Czech Republic, United Kingdom, Denmar...    October 19, 2020   \n",
       "7783                                              India       March 2, 2019   \n",
       "7784                                                NaN  September 25, 2020   \n",
       "7785                                          Australia    October 31, 2020   \n",
       "7786              United Kingdom, Canada, United States       March 1, 2020   \n",
       "\n",
       "      release_year rating   duration  \\\n",
       "0             2020  TV-MA  4 Seasons   \n",
       "1             2016  TV-MA     93 min   \n",
       "2             2011      R     78 min   \n",
       "3             2009  PG-13     80 min   \n",
       "4             2008  PG-13    123 min   \n",
       "...            ...    ...        ...   \n",
       "7782          2005  TV-MA     99 min   \n",
       "7783          2015  TV-14    111 min   \n",
       "7784          2019  TV-MA     44 min   \n",
       "7785          2019  TV-PG   1 Season   \n",
       "7786          2019  TV-MA     90 min   \n",
       "\n",
       "                                              listed_in  \\\n",
       "0     International TV Shows, TV Dramas, TV Sci-Fi &...   \n",
       "1                          Dramas, International Movies   \n",
       "2                   Horror Movies, International Movies   \n",
       "3     Action & Adventure, Independent Movies, Sci-Fi...   \n",
       "4                                                Dramas   \n",
       "...                                                 ...   \n",
       "7782                       Dramas, International Movies   \n",
       "7783     Dramas, International Movies, Music & Musicals   \n",
       "7784  Documentaries, International Movies, Music & M...   \n",
       "7785                 International TV Shows, Reality TV   \n",
       "7786                    Documentaries, Music & Musicals   \n",
       "\n",
       "                                            description computer_date  \\\n",
       "0     In a future where the elite inhabit an island ...    2020-08-14   \n",
       "1     After a devastating earthquake hits Mexico Cit...    2016-12-23   \n",
       "2     When an army recruit is found dead, his fellow...    2018-12-20   \n",
       "3     In a postapocalyptic world, rag-doll robots hi...    2017-11-16   \n",
       "4     A brilliant group of students become card-coun...    2020-01-01   \n",
       "...                                                 ...           ...   \n",
       "7782  When Lebanon's Civil War deprives Zozo of his ...    2020-10-19   \n",
       "7783  A scrappy but poor boy worms his way into a ty...    2019-03-02   \n",
       "7784  In this documentary, South African rapper Nast...    2020-09-25   \n",
       "7785  Dessert wizard Adriano Zumbo looks for the nex...    2020-10-31   \n",
       "7786  This documentary delves into the mystique behi...    2020-03-01   \n",
       "\n",
       "       Date Part 1 Date Part 2  \n",
       "0        August 14        2020  \n",
       "1      December 23        2016  \n",
       "2      December 20        2018  \n",
       "3      November 16        2017  \n",
       "4        January 1        2020  \n",
       "...            ...         ...  \n",
       "7782    October 19        2020  \n",
       "7783       March 2        2019  \n",
       "7784  September 25        2020  \n",
       "7785    October 31        2020  \n",
       "7786       March 1        2020  \n",
       "\n",
       "[7787 rows x 15 columns]"
      ],
      "text/html": "<div>\n<style scoped>\n    .dataframe tbody tr th:only-of-type {\n        vertical-align: middle;\n    }\n\n    .dataframe tbody tr th {\n        vertical-align: top;\n    }\n\n    .dataframe thead th {\n        text-align: right;\n    }\n</style>\n<table border=\"1\" class=\"dataframe\">\n  <thead>\n    <tr style=\"text-align: right;\">\n      <th></th>\n      <th>show_id</th>\n      <th>type</th>\n      <th>title</th>\n      <th>director</th>\n      <th>cast</th>\n      <th>country</th>\n      <th>date_added</th>\n      <th>release_year</th>\n      <th>rating</th>\n      <th>duration</th>\n      <th>listed_in</th>\n      <th>description</th>\n      <th>computer_date</th>\n      <th>Date Part 1</th>\n      <th>Date Part 2</th>\n    </tr>\n  </thead>\n  <tbody>\n    <tr>\n      <th>0</th>\n      <td>s1</td>\n      <td>TV Show</td>\n      <td>3%</td>\n      <td>NaN</td>\n      <td>João Miguel, Bianca Comparato, Michel Gomes, R...</td>\n      <td>Brazil</td>\n      <td>August 14, 2020</td>\n      <td>2020</td>\n      <td>TV-MA</td>\n      <td>4 Seasons</td>\n      <td>International TV Shows, TV Dramas, TV Sci-Fi &amp;...</td>\n      <td>In a future where the elite inhabit an island ...</td>\n      <td>2020-08-14</td>\n      <td>August 14</td>\n      <td>2020</td>\n    </tr>\n    <tr>\n      <th>1</th>\n      <td>s2</td>\n      <td>Movie</td>\n      <td>7:19</td>\n      <td>Jorge Michel Grau</td>\n      <td>Demián Bichir, Héctor Bonilla, Oscar Serrano, ...</td>\n      <td>Mexico</td>\n      <td>December 23, 2016</td>\n      <td>2016</td>\n      <td>TV-MA</td>\n      <td>93 min</td>\n      <td>Dramas, International Movies</td>\n      <td>After a devastating earthquake hits Mexico Cit...</td>\n      <td>2016-12-23</td>\n      <td>December 23</td>\n      <td>2016</td>\n    </tr>\n    <tr>\n      <th>2</th>\n      <td>s3</td>\n      <td>Movie</td>\n      <td>23:59</td>\n      <td>Gilbert Chan</td>\n      <td>Tedd Chan, Stella Chung, Henley Hii, Lawrence ...</td>\n      <td>Singapore</td>\n      <td>December 20, 2018</td>\n      <td>2011</td>\n      <td>R</td>\n      <td>78 min</td>\n      <td>Horror Movies, International Movies</td>\n      <td>When an army recruit is found dead, his fellow...</td>\n      <td>2018-12-20</td>\n      <td>December 20</td>\n      <td>2018</td>\n    </tr>\n    <tr>\n      <th>3</th>\n      <td>s4</td>\n      <td>Movie</td>\n      <td>9</td>\n      <td>Shane Acker</td>\n      <td>Elijah Wood, John C. Reilly, Jennifer Connelly...</td>\n      <td>United States</td>\n      <td>November 16, 2017</td>\n      <td>2009</td>\n      <td>PG-13</td>\n      <td>80 min</td>\n      <td>Action &amp; Adventure, Independent Movies, Sci-Fi...</td>\n      <td>In a postapocalyptic world, rag-doll robots hi...</td>\n      <td>2017-11-16</td>\n      <td>November 16</td>\n      <td>2017</td>\n    </tr>\n    <tr>\n      <th>4</th>\n      <td>s5</td>\n      <td>Movie</td>\n      <td>21</td>\n      <td>Robert Luketic</td>\n      <td>Jim Sturgess, Kevin Spacey, Kate Bosworth, Aar...</td>\n      <td>United States</td>\n      <td>January 1, 2020</td>\n      <td>2008</td>\n      <td>PG-13</td>\n      <td>123 min</td>\n      <td>Dramas</td>\n      <td>A brilliant group of students become card-coun...</td>\n      <td>2020-01-01</td>\n      <td>January 1</td>\n      <td>2020</td>\n    </tr>\n    <tr>\n      <th>...</th>\n      <td>...</td>\n      <td>...</td>\n      <td>...</td>\n      <td>...</td>\n      <td>...</td>\n      <td>...</td>\n      <td>...</td>\n      <td>...</td>\n      <td>...</td>\n      <td>...</td>\n      <td>...</td>\n      <td>...</td>\n      <td>...</td>\n      <td>...</td>\n      <td>...</td>\n    </tr>\n    <tr>\n      <th>7782</th>\n      <td>s7783</td>\n      <td>Movie</td>\n      <td>Zozo</td>\n      <td>Josef Fares</td>\n      <td>Imad Creidi, Antoinette Turk, Elias Gergi, Car...</td>\n      <td>Sweden, Czech Republic, United Kingdom, Denmar...</td>\n      <td>October 19, 2020</td>\n      <td>2005</td>\n      <td>TV-MA</td>\n      <td>99 min</td>\n      <td>Dramas, International Movies</td>\n      <td>When Lebanon's Civil War deprives Zozo of his ...</td>\n      <td>2020-10-19</td>\n      <td>October 19</td>\n      <td>2020</td>\n    </tr>\n    <tr>\n      <th>7783</th>\n      <td>s7784</td>\n      <td>Movie</td>\n      <td>Zubaan</td>\n      <td>Mozez Singh</td>\n      <td>Vicky Kaushal, Sarah-Jane Dias, Raaghav Chanan...</td>\n      <td>India</td>\n      <td>March 2, 2019</td>\n      <td>2015</td>\n      <td>TV-14</td>\n      <td>111 min</td>\n      <td>Dramas, International Movies, Music &amp; Musicals</td>\n      <td>A scrappy but poor boy worms his way into a ty...</td>\n      <td>2019-03-02</td>\n      <td>March 2</td>\n      <td>2019</td>\n    </tr>\n    <tr>\n      <th>7784</th>\n      <td>s7785</td>\n      <td>Movie</td>\n      <td>Zulu Man in Japan</td>\n      <td>NaN</td>\n      <td>Nasty C</td>\n      <td>NaN</td>\n      <td>September 25, 2020</td>\n      <td>2019</td>\n      <td>TV-MA</td>\n      <td>44 min</td>\n      <td>Documentaries, International Movies, Music &amp; M...</td>\n      <td>In this documentary, South African rapper Nast...</td>\n      <td>2020-09-25</td>\n      <td>September 25</td>\n      <td>2020</td>\n    </tr>\n    <tr>\n      <th>7785</th>\n      <td>s7786</td>\n      <td>TV Show</td>\n      <td>Zumbo's Just Desserts</td>\n      <td>NaN</td>\n      <td>Adriano Zumbo, Rachel Khoo</td>\n      <td>Australia</td>\n      <td>October 31, 2020</td>\n      <td>2019</td>\n      <td>TV-PG</td>\n      <td>1 Season</td>\n      <td>International TV Shows, Reality TV</td>\n      <td>Dessert wizard Adriano Zumbo looks for the nex...</td>\n      <td>2020-10-31</td>\n      <td>October 31</td>\n      <td>2020</td>\n    </tr>\n    <tr>\n      <th>7786</th>\n      <td>s7787</td>\n      <td>Movie</td>\n      <td>ZZ TOP: THAT LITTLE OL' BAND FROM TEXAS</td>\n      <td>Sam Dunn</td>\n      <td>NaN</td>\n      <td>United Kingdom, Canada, United States</td>\n      <td>March 1, 2020</td>\n      <td>2019</td>\n      <td>TV-MA</td>\n      <td>90 min</td>\n      <td>Documentaries, Music &amp; Musicals</td>\n      <td>This documentary delves into the mystique behi...</td>\n      <td>2020-03-01</td>\n      <td>March 1</td>\n      <td>2020</td>\n    </tr>\n  </tbody>\n</table>\n<p>7787 rows × 15 columns</p>\n</div>"
     },
     "metadata": {},
     "execution_count": 65
    }
   ],
   "source": [
    "netflix[['Date Part 1','Date Part 2']] = netflix[\"date_added\"].str.split(pat = ', ', expand = True)\n",
    "netflix"
   ]
  },
  {
   "cell_type": "code",
   "execution_count": 72,
   "metadata": {},
   "outputs": [
    {
     "output_type": "execute_result",
     "data": {
      "text/plain": [
       "  show_id     type title           director  \\\n",
       "0      s1  TV Show    3%                NaN   \n",
       "1      s2    Movie  7:19  Jorge Michel Grau   \n",
       "\n",
       "                                                cast country  \\\n",
       "0  João Miguel, Bianca Comparato, Michel Gomes, R...  Brazil   \n",
       "1  Demián Bichir, Héctor Bonilla, Oscar Serrano, ...  Mexico   \n",
       "\n",
       "          date_added  release_year rating   duration  \\\n",
       "0    August 14, 2020          2020  TV-MA  4 Seasons   \n",
       "1  December 23, 2016          2016  TV-MA     93 min   \n",
       "\n",
       "                                           listed_in  \\\n",
       "0  International TV Shows, TV Dramas, TV Sci-Fi &...   \n",
       "1                       Dramas, International Movies   \n",
       "\n",
       "                                         description computer_date  \\\n",
       "0  In a future where the elite inhabit an island ...    2020-08-14   \n",
       "1  After a devastating earthquake hits Mexico Cit...    2016-12-23   \n",
       "\n",
       "   Date Part 1  Year  \n",
       "0    August 14  2020  \n",
       "1  December 23  2016  "
      ],
      "text/html": "<div>\n<style scoped>\n    .dataframe tbody tr th:only-of-type {\n        vertical-align: middle;\n    }\n\n    .dataframe tbody tr th {\n        vertical-align: top;\n    }\n\n    .dataframe thead th {\n        text-align: right;\n    }\n</style>\n<table border=\"1\" class=\"dataframe\">\n  <thead>\n    <tr style=\"text-align: right;\">\n      <th></th>\n      <th>show_id</th>\n      <th>type</th>\n      <th>title</th>\n      <th>director</th>\n      <th>cast</th>\n      <th>country</th>\n      <th>date_added</th>\n      <th>release_year</th>\n      <th>rating</th>\n      <th>duration</th>\n      <th>listed_in</th>\n      <th>description</th>\n      <th>computer_date</th>\n      <th>Date Part 1</th>\n      <th>Year</th>\n    </tr>\n  </thead>\n  <tbody>\n    <tr>\n      <th>0</th>\n      <td>s1</td>\n      <td>TV Show</td>\n      <td>3%</td>\n      <td>NaN</td>\n      <td>João Miguel, Bianca Comparato, Michel Gomes, R...</td>\n      <td>Brazil</td>\n      <td>August 14, 2020</td>\n      <td>2020</td>\n      <td>TV-MA</td>\n      <td>4 Seasons</td>\n      <td>International TV Shows, TV Dramas, TV Sci-Fi &amp;...</td>\n      <td>In a future where the elite inhabit an island ...</td>\n      <td>2020-08-14</td>\n      <td>August 14</td>\n      <td>2020</td>\n    </tr>\n    <tr>\n      <th>1</th>\n      <td>s2</td>\n      <td>Movie</td>\n      <td>7:19</td>\n      <td>Jorge Michel Grau</td>\n      <td>Demián Bichir, Héctor Bonilla, Oscar Serrano, ...</td>\n      <td>Mexico</td>\n      <td>December 23, 2016</td>\n      <td>2016</td>\n      <td>TV-MA</td>\n      <td>93 min</td>\n      <td>Dramas, International Movies</td>\n      <td>After a devastating earthquake hits Mexico Cit...</td>\n      <td>2016-12-23</td>\n      <td>December 23</td>\n      <td>2016</td>\n    </tr>\n  </tbody>\n</table>\n</div>"
     },
     "metadata": {},
     "execution_count": 72
    }
   ],
   "source": [
    "netflix.rename(columns = {'Date Part 2':'Year'},inplace = True)\n",
    "netflix.head(2) "
   ]
  },
  {
   "cell_type": "code",
   "execution_count": 74,
   "metadata": {},
   "outputs": [
    {
     "output_type": "execute_result",
     "data": {
      "text/plain": [
       "  show_id     type title           director  \\\n",
       "0      s1  TV Show    3%                NaN   \n",
       "1      s2    Movie  7:19  Jorge Michel Grau   \n",
       "\n",
       "                                                cast country  \\\n",
       "0  João Miguel, Bianca Comparato, Michel Gomes, R...  Brazil   \n",
       "1  Demián Bichir, Héctor Bonilla, Oscar Serrano, ...  Mexico   \n",
       "\n",
       "          date_added  release_year rating   duration  \\\n",
       "0    August 14, 2020          2020  TV-MA  4 Seasons   \n",
       "1  December 23, 2016          2016  TV-MA     93 min   \n",
       "\n",
       "                                           listed_in  \\\n",
       "0  International TV Shows, TV Dramas, TV Sci-Fi &...   \n",
       "1                       Dramas, International Movies   \n",
       "\n",
       "                                         description computer_date  \\\n",
       "0  In a future where the elite inhabit an island ...    2020-08-14   \n",
       "1  After a devastating earthquake hits Mexico Cit...    2016-12-23   \n",
       "\n",
       "   Date Part 1  Year  \n",
       "0    August 14  2020  \n",
       "1  December 23  2016  "
      ],
      "text/html": "<div>\n<style scoped>\n    .dataframe tbody tr th:only-of-type {\n        vertical-align: middle;\n    }\n\n    .dataframe tbody tr th {\n        vertical-align: top;\n    }\n\n    .dataframe thead th {\n        text-align: right;\n    }\n</style>\n<table border=\"1\" class=\"dataframe\">\n  <thead>\n    <tr style=\"text-align: right;\">\n      <th></th>\n      <th>show_id</th>\n      <th>type</th>\n      <th>title</th>\n      <th>director</th>\n      <th>cast</th>\n      <th>country</th>\n      <th>date_added</th>\n      <th>release_year</th>\n      <th>rating</th>\n      <th>duration</th>\n      <th>listed_in</th>\n      <th>description</th>\n      <th>computer_date</th>\n      <th>Date Part 1</th>\n      <th>Year</th>\n    </tr>\n  </thead>\n  <tbody>\n    <tr>\n      <th>0</th>\n      <td>s1</td>\n      <td>TV Show</td>\n      <td>3%</td>\n      <td>NaN</td>\n      <td>João Miguel, Bianca Comparato, Michel Gomes, R...</td>\n      <td>Brazil</td>\n      <td>August 14, 2020</td>\n      <td>2020</td>\n      <td>TV-MA</td>\n      <td>4 Seasons</td>\n      <td>International TV Shows, TV Dramas, TV Sci-Fi &amp;...</td>\n      <td>In a future where the elite inhabit an island ...</td>\n      <td>2020-08-14</td>\n      <td>August 14</td>\n      <td>2020</td>\n    </tr>\n    <tr>\n      <th>1</th>\n      <td>s2</td>\n      <td>Movie</td>\n      <td>7:19</td>\n      <td>Jorge Michel Grau</td>\n      <td>Demián Bichir, Héctor Bonilla, Oscar Serrano, ...</td>\n      <td>Mexico</td>\n      <td>December 23, 2016</td>\n      <td>2016</td>\n      <td>TV-MA</td>\n      <td>93 min</td>\n      <td>Dramas, International Movies</td>\n      <td>After a devastating earthquake hits Mexico Cit...</td>\n      <td>2016-12-23</td>\n      <td>December 23</td>\n      <td>2016</td>\n    </tr>\n  </tbody>\n</table>\n</div>"
     },
     "metadata": {},
     "execution_count": 74
    }
   ],
   "source": [
    "netflix[\"cast\"].fillna('no cast', inplace=True)\n",
    "netflix.head(2)"
   ]
  },
  {
   "cell_type": "code",
   "execution_count": 78,
   "metadata": {},
   "outputs": [
    {
     "output_type": "execute_result",
     "data": {
      "text/plain": [
       "  show_id     type title           director  \\\n",
       "0      s1  TV Show    3%                NaN   \n",
       "1      s2    Movie  7:19  Jorge Michel Grau   \n",
       "\n",
       "                                                cast country  \\\n",
       "0  João Miguel, Bianca Comparato, Michel Gomes, R...  Brazil   \n",
       "1  Demián Bichir, Héctor Bonilla, Oscar Serrano, ...  Mexico   \n",
       "\n",
       "          date_added  release_year rating   duration  \\\n",
       "0    August 14, 2020          2020  TV-MA  4 Seasons   \n",
       "1  December 23, 2016          2016  TV-MA     93 min   \n",
       "\n",
       "                                           listed_in  \\\n",
       "0  International TV Shows, TV Dramas, TV Sci-Fi &...   \n",
       "1                       Dramas, International Movies   \n",
       "\n",
       "                                         description computer_date  \\\n",
       "0  In a future where the elite inhabit an island ...    2020-08-14   \n",
       "1  After a devastating earthquake hits Mexico Cit...    2016-12-23   \n",
       "\n",
       "   Date Part 1  Year  genre_count  \n",
       "0    August 14  2020            3  \n",
       "1  December 23  2016            2  "
      ],
      "text/html": "<div>\n<style scoped>\n    .dataframe tbody tr th:only-of-type {\n        vertical-align: middle;\n    }\n\n    .dataframe tbody tr th {\n        vertical-align: top;\n    }\n\n    .dataframe thead th {\n        text-align: right;\n    }\n</style>\n<table border=\"1\" class=\"dataframe\">\n  <thead>\n    <tr style=\"text-align: right;\">\n      <th></th>\n      <th>show_id</th>\n      <th>type</th>\n      <th>title</th>\n      <th>director</th>\n      <th>cast</th>\n      <th>country</th>\n      <th>date_added</th>\n      <th>release_year</th>\n      <th>rating</th>\n      <th>duration</th>\n      <th>listed_in</th>\n      <th>description</th>\n      <th>computer_date</th>\n      <th>Date Part 1</th>\n      <th>Year</th>\n      <th>genre_count</th>\n    </tr>\n  </thead>\n  <tbody>\n    <tr>\n      <th>0</th>\n      <td>s1</td>\n      <td>TV Show</td>\n      <td>3%</td>\n      <td>NaN</td>\n      <td>João Miguel, Bianca Comparato, Michel Gomes, R...</td>\n      <td>Brazil</td>\n      <td>August 14, 2020</td>\n      <td>2020</td>\n      <td>TV-MA</td>\n      <td>4 Seasons</td>\n      <td>International TV Shows, TV Dramas, TV Sci-Fi &amp;...</td>\n      <td>In a future where the elite inhabit an island ...</td>\n      <td>2020-08-14</td>\n      <td>August 14</td>\n      <td>2020</td>\n      <td>3</td>\n    </tr>\n    <tr>\n      <th>1</th>\n      <td>s2</td>\n      <td>Movie</td>\n      <td>7:19</td>\n      <td>Jorge Michel Grau</td>\n      <td>Demián Bichir, Héctor Bonilla, Oscar Serrano, ...</td>\n      <td>Mexico</td>\n      <td>December 23, 2016</td>\n      <td>2016</td>\n      <td>TV-MA</td>\n      <td>93 min</td>\n      <td>Dramas, International Movies</td>\n      <td>After a devastating earthquake hits Mexico Cit...</td>\n      <td>2016-12-23</td>\n      <td>December 23</td>\n      <td>2016</td>\n      <td>2</td>\n    </tr>\n  </tbody>\n</table>\n</div>"
     },
     "metadata": {},
     "execution_count": 78
    }
   ],
   "source": [
    "netflix[\"genre_count\"] = netflix[\"listed_in\"].map(lambda x: len(x.split(\",\")))\n",
    "netflix.head(2)"
   ]
  },
  {
   "cell_type": "code",
   "execution_count": 89,
   "metadata": {},
   "outputs": [
    {
     "output_type": "execute_result",
     "data": {
      "text/plain": [
       "                               country  show_id\n",
       "0                        United States     2555\n",
       "1                                India      923\n",
       "2                       United Kingdom      397\n",
       "3                                Japan      226\n",
       "4                          South Korea      183\n",
       "..                                 ...      ...\n",
       "676  Indonesia, South Korea, Singapore        1\n",
       "677          Indonesia, United Kingdom        1\n",
       "678           Indonesia, United States        1\n",
       "679                       Iran, France        1\n",
       "680                           Zimbabwe        1\n",
       "\n",
       "[681 rows x 2 columns]"
      ],
      "text/html": "<div>\n<style scoped>\n    .dataframe tbody tr th:only-of-type {\n        vertical-align: middle;\n    }\n\n    .dataframe tbody tr th {\n        vertical-align: top;\n    }\n\n    .dataframe thead th {\n        text-align: right;\n    }\n</style>\n<table border=\"1\" class=\"dataframe\">\n  <thead>\n    <tr style=\"text-align: right;\">\n      <th></th>\n      <th>country</th>\n      <th>show_id</th>\n    </tr>\n  </thead>\n  <tbody>\n    <tr>\n      <th>0</th>\n      <td>United States</td>\n      <td>2555</td>\n    </tr>\n    <tr>\n      <th>1</th>\n      <td>India</td>\n      <td>923</td>\n    </tr>\n    <tr>\n      <th>2</th>\n      <td>United Kingdom</td>\n      <td>397</td>\n    </tr>\n    <tr>\n      <th>3</th>\n      <td>Japan</td>\n      <td>226</td>\n    </tr>\n    <tr>\n      <th>4</th>\n      <td>South Korea</td>\n      <td>183</td>\n    </tr>\n    <tr>\n      <th>...</th>\n      <td>...</td>\n      <td>...</td>\n    </tr>\n    <tr>\n      <th>676</th>\n      <td>Indonesia, South Korea, Singapore</td>\n      <td>1</td>\n    </tr>\n    <tr>\n      <th>677</th>\n      <td>Indonesia, United Kingdom</td>\n      <td>1</td>\n    </tr>\n    <tr>\n      <th>678</th>\n      <td>Indonesia, United States</td>\n      <td>1</td>\n    </tr>\n    <tr>\n      <th>679</th>\n      <td>Iran, France</td>\n      <td>1</td>\n    </tr>\n    <tr>\n      <th>680</th>\n      <td>Zimbabwe</td>\n      <td>1</td>\n    </tr>\n  </tbody>\n</table>\n<p>681 rows × 2 columns</p>\n</div>"
     },
     "metadata": {},
     "execution_count": 89
    }
   ],
   "source": [
    "netflix_movies_by_country = netflix.groupby(\"country\")[\"show_id\"].count().sort_values(0,ascending=False).reset_index()\n",
    "netflix_movies_by_country\n"
   ]
  },
  {
   "cell_type": "code",
   "execution_count": 81,
   "metadata": {},
   "outputs": [
    {
     "output_type": "execute_result",
     "data": {
      "text/plain": [
       "                                                index  country\n",
       "0                                       United States     2555\n",
       "1                                               India      923\n",
       "2                                      United Kingdom      397\n",
       "3                                               Japan      226\n",
       "4                                         South Korea      183\n",
       "..                                                ...      ...\n",
       "676                             South Africa, Nigeria        1\n",
       "677                    United States, Canada, Ireland        1\n",
       "678  Argentina, France, United States, Germany, Qatar        1\n",
       "679                                Philippines, Qatar        1\n",
       "680                       South Korea, Czech Republic        1\n",
       "\n",
       "[681 rows x 2 columns]"
      ],
      "text/html": "<div>\n<style scoped>\n    .dataframe tbody tr th:only-of-type {\n        vertical-align: middle;\n    }\n\n    .dataframe tbody tr th {\n        vertical-align: top;\n    }\n\n    .dataframe thead th {\n        text-align: right;\n    }\n</style>\n<table border=\"1\" class=\"dataframe\">\n  <thead>\n    <tr style=\"text-align: right;\">\n      <th></th>\n      <th>index</th>\n      <th>country</th>\n    </tr>\n  </thead>\n  <tbody>\n    <tr>\n      <th>0</th>\n      <td>United States</td>\n      <td>2555</td>\n    </tr>\n    <tr>\n      <th>1</th>\n      <td>India</td>\n      <td>923</td>\n    </tr>\n    <tr>\n      <th>2</th>\n      <td>United Kingdom</td>\n      <td>397</td>\n    </tr>\n    <tr>\n      <th>3</th>\n      <td>Japan</td>\n      <td>226</td>\n    </tr>\n    <tr>\n      <th>4</th>\n      <td>South Korea</td>\n      <td>183</td>\n    </tr>\n    <tr>\n      <th>...</th>\n      <td>...</td>\n      <td>...</td>\n    </tr>\n    <tr>\n      <th>676</th>\n      <td>South Africa, Nigeria</td>\n      <td>1</td>\n    </tr>\n    <tr>\n      <th>677</th>\n      <td>United States, Canada, Ireland</td>\n      <td>1</td>\n    </tr>\n    <tr>\n      <th>678</th>\n      <td>Argentina, France, United States, Germany, Qatar</td>\n      <td>1</td>\n    </tr>\n    <tr>\n      <th>679</th>\n      <td>Philippines, Qatar</td>\n      <td>1</td>\n    </tr>\n    <tr>\n      <th>680</th>\n      <td>South Korea, Czech Republic</td>\n      <td>1</td>\n    </tr>\n  </tbody>\n</table>\n<p>681 rows × 2 columns</p>\n</div>"
     },
     "metadata": {},
     "execution_count": 81
    }
   ],
   "source": [
    "# Alternatively you can just use value_counts method to do the same thing as above\n",
    "netflix['country'].value_counts().reset_index()"
   ]
  },
  {
   "cell_type": "code",
   "execution_count": 93,
   "metadata": {},
   "outputs": [
    {
     "output_type": "execute_result",
     "data": {
      "text/plain": [
       "    show_id     type                             title           director  \\\n",
       "0        s1  TV Show                                3%                NaN   \n",
       "1        s2    Movie                              7:19  Jorge Michel Grau   \n",
       "2        s3    Movie                             23:59       Gilbert Chan   \n",
       "3        s4    Movie                                 9        Shane Acker   \n",
       "4        s5    Movie                                21     Robert Luketic   \n",
       "..      ...      ...                               ...                ...   \n",
       "349    s350  TV Show  Ainori Love Wagon: Asian Journey                NaN   \n",
       "350    s351  TV Show          Ainsley Eats the Streets                NaN   \n",
       "351    s352    Movie                        Ainu Mosir   Takeshi Fukunaga   \n",
       "352    s353    Movie                     Airplane Mode    César Rodrigues   \n",
       "353    s354    Movie                   Aisa Yeh Jahaan     Biswajeet Bora   \n",
       "\n",
       "                                                  cast               country  \\\n",
       "0    João Miguel, Bianca Comparato, Michel Gomes, R...                Brazil   \n",
       "1    Demián Bichir, Héctor Bonilla, Oscar Serrano, ...                Mexico   \n",
       "2    Tedd Chan, Stella Chung, Henley Hii, Lawrence ...             Singapore   \n",
       "3    Elijah Wood, John C. Reilly, Jennifer Connelly...         United States   \n",
       "4    Jim Sturgess, Kevin Spacey, Kate Bosworth, Aar...         United States   \n",
       "..                                                 ...                   ...   \n",
       "349       Becky, Audrey, Mayuko Kawakita, Shimon Okura                 Japan   \n",
       "350                                   Ainsley Harriott        United Kingdom   \n",
       "351  Kanto Shimokura, Debo Akibe, Emi Shimokura, To...  United States, Japan   \n",
       "352  Larissa Manoela, André Luiz Frambach, Erasmo C...         United States   \n",
       "353  Palash Sen, Ira Dubey, Yashpal Sharma, Tinnu A...                 India   \n",
       "\n",
       "    date_added  release_year rating   duration  \\\n",
       "0    14-Aug-20          2020  TV-MA  4 Seasons   \n",
       "1    23-Dec-16          2016  TV-MA     93 min   \n",
       "2    20-Dec-18          2011      R     78 min   \n",
       "3    16-Nov-17          2009  PG-13     80 min   \n",
       "4     1-Jan-20          2008  PG-13    123 min   \n",
       "..         ...           ...    ...        ...   \n",
       "349  28-Mar-19          2018  TV-MA  2 Seasons   \n",
       "350  12-Jul-19          2014  TV-PG   1 Season   \n",
       "351  17-Nov-20          2020  TV-PG     84 min   \n",
       "352  23-Jan-20          2020  TV-PG     97 min   \n",
       "353  15-Oct-17          2015  TV-14    127 min   \n",
       "\n",
       "                                             listed_in  \\\n",
       "0    International TV Shows, TV Dramas, TV Sci-Fi &...   \n",
       "1                         Dramas, International Movies   \n",
       "2                  Horror Movies, International Movies   \n",
       "3    Action & Adventure, Independent Movies, Sci-Fi...   \n",
       "4                                               Dramas   \n",
       "..                                                 ...   \n",
       "349  International TV Shows, Reality TV, Romantic T...   \n",
       "350  British TV Shows, Docuseries, International TV...   \n",
       "351                       Dramas, International Movies   \n",
       "352    Comedies, International Movies, Romantic Movies   \n",
       "353   Dramas, Independent Movies, International Movies   \n",
       "\n",
       "                                           description  \n",
       "0    In a future where the elite inhabit an island ...  \n",
       "1    After a devastating earthquake hits Mexico Cit...  \n",
       "2    When an army recruit is found dead, his fellow...  \n",
       "3    In a postapocalyptic world, rag-doll robots hi...  \n",
       "4    A brilliant group of students become card-coun...  \n",
       "..                                                 ...  \n",
       "349  Seven men and women board a pink bus in search...  \n",
       "350  Celebrity chef Ainsley Harriott embarks on a j...  \n",
       "351  A sensitive Ainu teen searches for a spiritual...  \n",
       "352  When Ana, an influencer, crashes her car while...  \n",
       "353  During a vacation with her parents, away from ...  \n",
       "\n",
       "[354 rows x 12 columns]"
      ],
      "text/html": "<div>\n<style scoped>\n    .dataframe tbody tr th:only-of-type {\n        vertical-align: middle;\n    }\n\n    .dataframe tbody tr th {\n        vertical-align: top;\n    }\n\n    .dataframe thead th {\n        text-align: right;\n    }\n</style>\n<table border=\"1\" class=\"dataframe\">\n  <thead>\n    <tr style=\"text-align: right;\">\n      <th></th>\n      <th>show_id</th>\n      <th>type</th>\n      <th>title</th>\n      <th>director</th>\n      <th>cast</th>\n      <th>country</th>\n      <th>date_added</th>\n      <th>release_year</th>\n      <th>rating</th>\n      <th>duration</th>\n      <th>listed_in</th>\n      <th>description</th>\n    </tr>\n  </thead>\n  <tbody>\n    <tr>\n      <th>0</th>\n      <td>s1</td>\n      <td>TV Show</td>\n      <td>3%</td>\n      <td>NaN</td>\n      <td>João Miguel, Bianca Comparato, Michel Gomes, R...</td>\n      <td>Brazil</td>\n      <td>14-Aug-20</td>\n      <td>2020</td>\n      <td>TV-MA</td>\n      <td>4 Seasons</td>\n      <td>International TV Shows, TV Dramas, TV Sci-Fi &amp;...</td>\n      <td>In a future where the elite inhabit an island ...</td>\n    </tr>\n    <tr>\n      <th>1</th>\n      <td>s2</td>\n      <td>Movie</td>\n      <td>7:19</td>\n      <td>Jorge Michel Grau</td>\n      <td>Demián Bichir, Héctor Bonilla, Oscar Serrano, ...</td>\n      <td>Mexico</td>\n      <td>23-Dec-16</td>\n      <td>2016</td>\n      <td>TV-MA</td>\n      <td>93 min</td>\n      <td>Dramas, International Movies</td>\n      <td>After a devastating earthquake hits Mexico Cit...</td>\n    </tr>\n    <tr>\n      <th>2</th>\n      <td>s3</td>\n      <td>Movie</td>\n      <td>23:59</td>\n      <td>Gilbert Chan</td>\n      <td>Tedd Chan, Stella Chung, Henley Hii, Lawrence ...</td>\n      <td>Singapore</td>\n      <td>20-Dec-18</td>\n      <td>2011</td>\n      <td>R</td>\n      <td>78 min</td>\n      <td>Horror Movies, International Movies</td>\n      <td>When an army recruit is found dead, his fellow...</td>\n    </tr>\n    <tr>\n      <th>3</th>\n      <td>s4</td>\n      <td>Movie</td>\n      <td>9</td>\n      <td>Shane Acker</td>\n      <td>Elijah Wood, John C. Reilly, Jennifer Connelly...</td>\n      <td>United States</td>\n      <td>16-Nov-17</td>\n      <td>2009</td>\n      <td>PG-13</td>\n      <td>80 min</td>\n      <td>Action &amp; Adventure, Independent Movies, Sci-Fi...</td>\n      <td>In a postapocalyptic world, rag-doll robots hi...</td>\n    </tr>\n    <tr>\n      <th>4</th>\n      <td>s5</td>\n      <td>Movie</td>\n      <td>21</td>\n      <td>Robert Luketic</td>\n      <td>Jim Sturgess, Kevin Spacey, Kate Bosworth, Aar...</td>\n      <td>United States</td>\n      <td>1-Jan-20</td>\n      <td>2008</td>\n      <td>PG-13</td>\n      <td>123 min</td>\n      <td>Dramas</td>\n      <td>A brilliant group of students become card-coun...</td>\n    </tr>\n    <tr>\n      <th>...</th>\n      <td>...</td>\n      <td>...</td>\n      <td>...</td>\n      <td>...</td>\n      <td>...</td>\n      <td>...</td>\n      <td>...</td>\n      <td>...</td>\n      <td>...</td>\n      <td>...</td>\n      <td>...</td>\n      <td>...</td>\n    </tr>\n    <tr>\n      <th>349</th>\n      <td>s350</td>\n      <td>TV Show</td>\n      <td>Ainori Love Wagon: Asian Journey</td>\n      <td>NaN</td>\n      <td>Becky, Audrey, Mayuko Kawakita, Shimon Okura</td>\n      <td>Japan</td>\n      <td>28-Mar-19</td>\n      <td>2018</td>\n      <td>TV-MA</td>\n      <td>2 Seasons</td>\n      <td>International TV Shows, Reality TV, Romantic T...</td>\n      <td>Seven men and women board a pink bus in search...</td>\n    </tr>\n    <tr>\n      <th>350</th>\n      <td>s351</td>\n      <td>TV Show</td>\n      <td>Ainsley Eats the Streets</td>\n      <td>NaN</td>\n      <td>Ainsley Harriott</td>\n      <td>United Kingdom</td>\n      <td>12-Jul-19</td>\n      <td>2014</td>\n      <td>TV-PG</td>\n      <td>1 Season</td>\n      <td>British TV Shows, Docuseries, International TV...</td>\n      <td>Celebrity chef Ainsley Harriott embarks on a j...</td>\n    </tr>\n    <tr>\n      <th>351</th>\n      <td>s352</td>\n      <td>Movie</td>\n      <td>Ainu Mosir</td>\n      <td>Takeshi Fukunaga</td>\n      <td>Kanto Shimokura, Debo Akibe, Emi Shimokura, To...</td>\n      <td>United States, Japan</td>\n      <td>17-Nov-20</td>\n      <td>2020</td>\n      <td>TV-PG</td>\n      <td>84 min</td>\n      <td>Dramas, International Movies</td>\n      <td>A sensitive Ainu teen searches for a spiritual...</td>\n    </tr>\n    <tr>\n      <th>352</th>\n      <td>s353</td>\n      <td>Movie</td>\n      <td>Airplane Mode</td>\n      <td>César Rodrigues</td>\n      <td>Larissa Manoela, André Luiz Frambach, Erasmo C...</td>\n      <td>United States</td>\n      <td>23-Jan-20</td>\n      <td>2020</td>\n      <td>TV-PG</td>\n      <td>97 min</td>\n      <td>Comedies, International Movies, Romantic Movies</td>\n      <td>When Ana, an influencer, crashes her car while...</td>\n    </tr>\n    <tr>\n      <th>353</th>\n      <td>s354</td>\n      <td>Movie</td>\n      <td>Aisa Yeh Jahaan</td>\n      <td>Biswajeet Bora</td>\n      <td>Palash Sen, Ira Dubey, Yashpal Sharma, Tinnu A...</td>\n      <td>India</td>\n      <td>15-Oct-17</td>\n      <td>2015</td>\n      <td>TV-14</td>\n      <td>127 min</td>\n      <td>Dramas, Independent Movies, International Movies</td>\n      <td>During a vacation with her parents, away from ...</td>\n    </tr>\n  </tbody>\n</table>\n<p>354 rows × 12 columns</p>\n</div>"
     },
     "metadata": {},
     "execution_count": 93
    }
   ],
   "source": [
    "second_dataset = pd.read_csv(pwd + \"\\\\netflix_titles_second.csv\")\n",
    "second_dataset"
   ]
  },
  {
   "cell_type": "code",
   "execution_count": 95,
   "metadata": {},
   "outputs": [
    {
     "output_type": "execute_result",
     "data": {
      "text/plain": [
       "    show_id     type                             title           director  \\\n",
       "0        s1  TV Show                                3%                NaN   \n",
       "1        s2    Movie                              7:19  Jorge Michel Grau   \n",
       "2        s3    Movie                             23:59       Gilbert Chan   \n",
       "3        s4    Movie                                 9        Shane Acker   \n",
       "4        s5    Movie                                21     Robert Luketic   \n",
       "..      ...      ...                               ...                ...   \n",
       "349    s350  TV Show  Ainori Love Wagon: Asian Journey                NaN   \n",
       "350    s351  TV Show          Ainsley Eats the Streets                NaN   \n",
       "351    s352    Movie                        Ainu Mosir   Takeshi Fukunaga   \n",
       "352    s353    Movie                     Airplane Mode    César Rodrigues   \n",
       "353    s354    Movie                   Aisa Yeh Jahaan     Biswajeet Bora   \n",
       "\n",
       "                                                  cast               country  \\\n",
       "0    João Miguel, Bianca Comparato, Michel Gomes, R...                Brazil   \n",
       "1    Demián Bichir, Héctor Bonilla, Oscar Serrano, ...                Mexico   \n",
       "2    Tedd Chan, Stella Chung, Henley Hii, Lawrence ...             Singapore   \n",
       "3    Elijah Wood, John C. Reilly, Jennifer Connelly...         United States   \n",
       "4    Jim Sturgess, Kevin Spacey, Kate Bosworth, Aar...         United States   \n",
       "..                                                 ...                   ...   \n",
       "349       Becky, Audrey, Mayuko Kawakita, Shimon Okura                 Japan   \n",
       "350                                   Ainsley Harriott        United Kingdom   \n",
       "351  Kanto Shimokura, Debo Akibe, Emi Shimokura, To...  United States, Japan   \n",
       "352  Larissa Manoela, André Luiz Frambach, Erasmo C...         United States   \n",
       "353  Palash Sen, Ira Dubey, Yashpal Sharma, Tinnu A...                 India   \n",
       "\n",
       "            date_added  release_year rating   duration  \\\n",
       "0      August 14, 2020          2020  TV-MA  4 Seasons   \n",
       "1    December 23, 2016          2016  TV-MA     93 min   \n",
       "2    December 20, 2018          2011      R     78 min   \n",
       "3    November 16, 2017          2009  PG-13     80 min   \n",
       "4      January 1, 2020          2008  PG-13    123 min   \n",
       "..                 ...           ...    ...        ...   \n",
       "349          28-Mar-19          2018  TV-MA  2 Seasons   \n",
       "350          12-Jul-19          2014  TV-PG   1 Season   \n",
       "351          17-Nov-20          2020  TV-PG     84 min   \n",
       "352          23-Jan-20          2020  TV-PG     97 min   \n",
       "353          15-Oct-17          2015  TV-14    127 min   \n",
       "\n",
       "                                             listed_in  \\\n",
       "0    International TV Shows, TV Dramas, TV Sci-Fi &...   \n",
       "1                         Dramas, International Movies   \n",
       "2                  Horror Movies, International Movies   \n",
       "3    Action & Adventure, Independent Movies, Sci-Fi...   \n",
       "4                                               Dramas   \n",
       "..                                                 ...   \n",
       "349  International TV Shows, Reality TV, Romantic T...   \n",
       "350  British TV Shows, Docuseries, International TV...   \n",
       "351                       Dramas, International Movies   \n",
       "352    Comedies, International Movies, Romantic Movies   \n",
       "353   Dramas, Independent Movies, International Movies   \n",
       "\n",
       "                                           description computer_date  \\\n",
       "0    In a future where the elite inhabit an island ...    2020-08-14   \n",
       "1    After a devastating earthquake hits Mexico Cit...    2016-12-23   \n",
       "2    When an army recruit is found dead, his fellow...    2018-12-20   \n",
       "3    In a postapocalyptic world, rag-doll robots hi...    2017-11-16   \n",
       "4    A brilliant group of students become card-coun...    2020-01-01   \n",
       "..                                                 ...           ...   \n",
       "349  Seven men and women board a pink bus in search...           NaT   \n",
       "350  Celebrity chef Ainsley Harriott embarks on a j...           NaT   \n",
       "351  A sensitive Ainu teen searches for a spiritual...           NaT   \n",
       "352  When Ana, an influencer, crashes her car while...           NaT   \n",
       "353  During a vacation with her parents, away from ...           NaT   \n",
       "\n",
       "     Date Part 1  Year  genre_count  \n",
       "0      August 14  2020          3.0  \n",
       "1    December 23  2016          2.0  \n",
       "2    December 20  2018          2.0  \n",
       "3    November 16  2017          3.0  \n",
       "4      January 1  2020          1.0  \n",
       "..           ...   ...          ...  \n",
       "349          NaN   NaN          NaN  \n",
       "350          NaN   NaN          NaN  \n",
       "351          NaN   NaN          NaN  \n",
       "352          NaN   NaN          NaN  \n",
       "353          NaN   NaN          NaN  \n",
       "\n",
       "[8141 rows x 16 columns]"
      ],
      "text/html": "<div>\n<style scoped>\n    .dataframe tbody tr th:only-of-type {\n        vertical-align: middle;\n    }\n\n    .dataframe tbody tr th {\n        vertical-align: top;\n    }\n\n    .dataframe thead th {\n        text-align: right;\n    }\n</style>\n<table border=\"1\" class=\"dataframe\">\n  <thead>\n    <tr style=\"text-align: right;\">\n      <th></th>\n      <th>show_id</th>\n      <th>type</th>\n      <th>title</th>\n      <th>director</th>\n      <th>cast</th>\n      <th>country</th>\n      <th>date_added</th>\n      <th>release_year</th>\n      <th>rating</th>\n      <th>duration</th>\n      <th>listed_in</th>\n      <th>description</th>\n      <th>computer_date</th>\n      <th>Date Part 1</th>\n      <th>Year</th>\n      <th>genre_count</th>\n    </tr>\n  </thead>\n  <tbody>\n    <tr>\n      <th>0</th>\n      <td>s1</td>\n      <td>TV Show</td>\n      <td>3%</td>\n      <td>NaN</td>\n      <td>João Miguel, Bianca Comparato, Michel Gomes, R...</td>\n      <td>Brazil</td>\n      <td>August 14, 2020</td>\n      <td>2020</td>\n      <td>TV-MA</td>\n      <td>4 Seasons</td>\n      <td>International TV Shows, TV Dramas, TV Sci-Fi &amp;...</td>\n      <td>In a future where the elite inhabit an island ...</td>\n      <td>2020-08-14</td>\n      <td>August 14</td>\n      <td>2020</td>\n      <td>3.0</td>\n    </tr>\n    <tr>\n      <th>1</th>\n      <td>s2</td>\n      <td>Movie</td>\n      <td>7:19</td>\n      <td>Jorge Michel Grau</td>\n      <td>Demián Bichir, Héctor Bonilla, Oscar Serrano, ...</td>\n      <td>Mexico</td>\n      <td>December 23, 2016</td>\n      <td>2016</td>\n      <td>TV-MA</td>\n      <td>93 min</td>\n      <td>Dramas, International Movies</td>\n      <td>After a devastating earthquake hits Mexico Cit...</td>\n      <td>2016-12-23</td>\n      <td>December 23</td>\n      <td>2016</td>\n      <td>2.0</td>\n    </tr>\n    <tr>\n      <th>2</th>\n      <td>s3</td>\n      <td>Movie</td>\n      <td>23:59</td>\n      <td>Gilbert Chan</td>\n      <td>Tedd Chan, Stella Chung, Henley Hii, Lawrence ...</td>\n      <td>Singapore</td>\n      <td>December 20, 2018</td>\n      <td>2011</td>\n      <td>R</td>\n      <td>78 min</td>\n      <td>Horror Movies, International Movies</td>\n      <td>When an army recruit is found dead, his fellow...</td>\n      <td>2018-12-20</td>\n      <td>December 20</td>\n      <td>2018</td>\n      <td>2.0</td>\n    </tr>\n    <tr>\n      <th>3</th>\n      <td>s4</td>\n      <td>Movie</td>\n      <td>9</td>\n      <td>Shane Acker</td>\n      <td>Elijah Wood, John C. Reilly, Jennifer Connelly...</td>\n      <td>United States</td>\n      <td>November 16, 2017</td>\n      <td>2009</td>\n      <td>PG-13</td>\n      <td>80 min</td>\n      <td>Action &amp; Adventure, Independent Movies, Sci-Fi...</td>\n      <td>In a postapocalyptic world, rag-doll robots hi...</td>\n      <td>2017-11-16</td>\n      <td>November 16</td>\n      <td>2017</td>\n      <td>3.0</td>\n    </tr>\n    <tr>\n      <th>4</th>\n      <td>s5</td>\n      <td>Movie</td>\n      <td>21</td>\n      <td>Robert Luketic</td>\n      <td>Jim Sturgess, Kevin Spacey, Kate Bosworth, Aar...</td>\n      <td>United States</td>\n      <td>January 1, 2020</td>\n      <td>2008</td>\n      <td>PG-13</td>\n      <td>123 min</td>\n      <td>Dramas</td>\n      <td>A brilliant group of students become card-coun...</td>\n      <td>2020-01-01</td>\n      <td>January 1</td>\n      <td>2020</td>\n      <td>1.0</td>\n    </tr>\n    <tr>\n      <th>...</th>\n      <td>...</td>\n      <td>...</td>\n      <td>...</td>\n      <td>...</td>\n      <td>...</td>\n      <td>...</td>\n      <td>...</td>\n      <td>...</td>\n      <td>...</td>\n      <td>...</td>\n      <td>...</td>\n      <td>...</td>\n      <td>...</td>\n      <td>...</td>\n      <td>...</td>\n      <td>...</td>\n    </tr>\n    <tr>\n      <th>349</th>\n      <td>s350</td>\n      <td>TV Show</td>\n      <td>Ainori Love Wagon: Asian Journey</td>\n      <td>NaN</td>\n      <td>Becky, Audrey, Mayuko Kawakita, Shimon Okura</td>\n      <td>Japan</td>\n      <td>28-Mar-19</td>\n      <td>2018</td>\n      <td>TV-MA</td>\n      <td>2 Seasons</td>\n      <td>International TV Shows, Reality TV, Romantic T...</td>\n      <td>Seven men and women board a pink bus in search...</td>\n      <td>NaT</td>\n      <td>NaN</td>\n      <td>NaN</td>\n      <td>NaN</td>\n    </tr>\n    <tr>\n      <th>350</th>\n      <td>s351</td>\n      <td>TV Show</td>\n      <td>Ainsley Eats the Streets</td>\n      <td>NaN</td>\n      <td>Ainsley Harriott</td>\n      <td>United Kingdom</td>\n      <td>12-Jul-19</td>\n      <td>2014</td>\n      <td>TV-PG</td>\n      <td>1 Season</td>\n      <td>British TV Shows, Docuseries, International TV...</td>\n      <td>Celebrity chef Ainsley Harriott embarks on a j...</td>\n      <td>NaT</td>\n      <td>NaN</td>\n      <td>NaN</td>\n      <td>NaN</td>\n    </tr>\n    <tr>\n      <th>351</th>\n      <td>s352</td>\n      <td>Movie</td>\n      <td>Ainu Mosir</td>\n      <td>Takeshi Fukunaga</td>\n      <td>Kanto Shimokura, Debo Akibe, Emi Shimokura, To...</td>\n      <td>United States, Japan</td>\n      <td>17-Nov-20</td>\n      <td>2020</td>\n      <td>TV-PG</td>\n      <td>84 min</td>\n      <td>Dramas, International Movies</td>\n      <td>A sensitive Ainu teen searches for a spiritual...</td>\n      <td>NaT</td>\n      <td>NaN</td>\n      <td>NaN</td>\n      <td>NaN</td>\n    </tr>\n    <tr>\n      <th>352</th>\n      <td>s353</td>\n      <td>Movie</td>\n      <td>Airplane Mode</td>\n      <td>César Rodrigues</td>\n      <td>Larissa Manoela, André Luiz Frambach, Erasmo C...</td>\n      <td>United States</td>\n      <td>23-Jan-20</td>\n      <td>2020</td>\n      <td>TV-PG</td>\n      <td>97 min</td>\n      <td>Comedies, International Movies, Romantic Movies</td>\n      <td>When Ana, an influencer, crashes her car while...</td>\n      <td>NaT</td>\n      <td>NaN</td>\n      <td>NaN</td>\n      <td>NaN</td>\n    </tr>\n    <tr>\n      <th>353</th>\n      <td>s354</td>\n      <td>Movie</td>\n      <td>Aisa Yeh Jahaan</td>\n      <td>Biswajeet Bora</td>\n      <td>Palash Sen, Ira Dubey, Yashpal Sharma, Tinnu A...</td>\n      <td>India</td>\n      <td>15-Oct-17</td>\n      <td>2015</td>\n      <td>TV-14</td>\n      <td>127 min</td>\n      <td>Dramas, Independent Movies, International Movies</td>\n      <td>During a vacation with her parents, away from ...</td>\n      <td>NaT</td>\n      <td>NaN</td>\n      <td>NaN</td>\n      <td>NaN</td>\n    </tr>\n  </tbody>\n</table>\n<p>8141 rows × 16 columns</p>\n</div>"
     },
     "metadata": {},
     "execution_count": 95
    }
   ],
   "source": [
    "new_dataset = pd.concat([netflix, second_dataset])\n",
    "new_dataset"
   ]
  },
  {
   "cell_type": "code",
   "execution_count": 99,
   "metadata": {},
   "outputs": [
    {
     "output_type": "execute_result",
     "data": {
      "text/plain": [
       "     show_id_x     type                      title  \\\n",
       "0           s1  TV Show                         3%   \n",
       "1         s209    Movie           A new Capitalism   \n",
       "2         s219  TV Show            A Queen Is Born   \n",
       "3         s321    Movie  Afonso Padilha: Classless   \n",
       "4         s323  TV Show        Afronta! Facing It!   \n",
       "...        ...      ...                        ...   \n",
       "7618     s7727    Movie               You Carry Me   \n",
       "7619     s7751  TV Show            Yu-Gi-Oh! Arc-V   \n",
       "7620     s7760  TV Show                  Zak Storm   \n",
       "7621     s7771    Movie                    Zinzana   \n",
       "7622     s7783    Movie                       Zozo   \n",
       "\n",
       "                          director  \\\n",
       "0                              NaN   \n",
       "1                              NaN   \n",
       "2                     Carla Barros   \n",
       "3     Junior Carelli, Rudge Campos   \n",
       "4                  Juliana Vicente   \n",
       "...                            ...   \n",
       "7618                    Ivona Juka   \n",
       "7619                           NaN   \n",
       "7620                           NaN   \n",
       "7621               Majid Al Ansari   \n",
       "7622                   Josef Fares   \n",
       "\n",
       "                                                   cast  \\\n",
       "0     João Miguel, Bianca Comparato, Michel Gomes, R...   \n",
       "1                                               no cast   \n",
       "2                         Gloria Groove, Alexia Twister   \n",
       "3                                        Afonso Padilha   \n",
       "4     Loo Nascimento, Ingrid Silva, Rincon Sapiência...   \n",
       "...                                                 ...   \n",
       "7618  Lana Baric, Vojislav Brajovic, Natasa Janjic, ...   \n",
       "7619  Mike Liscio, Emily Bauer, Billy Bob Thompson, ...   \n",
       "7620  Michael Johnston, Jessica Gee-George, Christin...   \n",
       "7621  Ali Suliman, Saleh Bakri, Yasa, Ali Al-Jabri, ...   \n",
       "7622  Imad Creidi, Antoinette Turk, Elias Gergi, Car...   \n",
       "\n",
       "                                                country          date_added  \\\n",
       "0                                                Brazil     August 14, 2020   \n",
       "1                                                Brazil       June 12, 2018   \n",
       "2                                                Brazil   November 11, 2020   \n",
       "3                                                Brazil   September 3, 2020   \n",
       "4                                                Brazil    October 31, 2020   \n",
       "...                                                 ...                 ...   \n",
       "7618              Croatia, Slovenia, Serbia, Montenegro        July 1, 2016   \n",
       "7619                                      Japan, Canada         May 1, 2018   \n",
       "7620      United States, France, South Korea, Indonesia  September 13, 2018   \n",
       "7621                       United Arab Emirates, Jordan       March 9, 2016   \n",
       "7622  Sweden, Czech Republic, United Kingdom, Denmar...    October 19, 2020   \n",
       "\n",
       "      release_year rating   duration  \\\n",
       "0             2020  TV-MA  4 Seasons   \n",
       "1             2017  TV-14     76 min   \n",
       "2             2020  TV-14   1 Season   \n",
       "3             2020  TV-MA     63 min   \n",
       "4             2017  TV-PG   1 Season   \n",
       "...            ...    ...        ...   \n",
       "7618          2015  TV-MA    157 min   \n",
       "7619          2015  TV-Y7  2 Seasons   \n",
       "7620          2016  TV-Y7  3 Seasons   \n",
       "7621          2015  TV-MA     96 min   \n",
       "7622          2005  TV-MA     99 min   \n",
       "\n",
       "                                              listed_in  \\\n",
       "0     International TV Shows, TV Dramas, TV Sci-Fi &...   \n",
       "1                   Documentaries, International Movies   \n",
       "2                    International TV Shows, Reality TV   \n",
       "3                                       Stand-Up Comedy   \n",
       "4                    Docuseries, International TV Shows   \n",
       "...                                                 ...   \n",
       "7618                       Dramas, International Movies   \n",
       "7619                             Anime Series, Kids' TV   \n",
       "7620                                           Kids' TV   \n",
       "7621            Dramas, International Movies, Thrillers   \n",
       "7622                       Dramas, International Movies   \n",
       "\n",
       "                                            description computer_date  \\\n",
       "0     In a future where the elite inhabit an island ...    2020-08-14   \n",
       "1     Entrepreneurs worldwide explore alternatives t...    2018-06-12   \n",
       "2     Gloria Groove and Alexia Twister make drag dre...    2020-11-11   \n",
       "3     Brazilian comedian Afonso Padilha dives into h...    2020-09-03   \n",
       "4     This docuseries spotlights Afro-Brazilian thin...    2020-10-31   \n",
       "...                                                 ...           ...   \n",
       "7618  A soap opera producer, director and makeup art...    2016-07-01   \n",
       "7619  Now that he's discovered the Pendulum Summonin...    2018-05-01   \n",
       "7620  Teen surfer Zak Storm is mysteriously transpor...    2018-09-13   \n",
       "7621  Recovering alcoholic Talal wakes up inside a s...    2016-03-09   \n",
       "7622  When Lebanon's Civil War deprives Zozo of his ...    2020-10-19   \n",
       "\n",
       "       Date Part 1  Year  genre_count  show_id_y  \n",
       "0        August 14  2020          3.0         72  \n",
       "1          June 12  2018          2.0         72  \n",
       "2      November 11  2020          2.0         72  \n",
       "3      September 3  2020          1.0         72  \n",
       "4       October 31  2020          2.0         72  \n",
       "...            ...   ...          ...        ...  \n",
       "7618        July 1  2016          2.0          1  \n",
       "7619         May 1  2018          2.0          1  \n",
       "7620  September 13  2018          1.0          1  \n",
       "7621       March 9  2016          3.0          1  \n",
       "7622    October 19  2020          2.0          1  \n",
       "\n",
       "[7623 rows x 17 columns]"
      ],
      "text/html": "<div>\n<style scoped>\n    .dataframe tbody tr th:only-of-type {\n        vertical-align: middle;\n    }\n\n    .dataframe tbody tr th {\n        vertical-align: top;\n    }\n\n    .dataframe thead th {\n        text-align: right;\n    }\n</style>\n<table border=\"1\" class=\"dataframe\">\n  <thead>\n    <tr style=\"text-align: right;\">\n      <th></th>\n      <th>show_id_x</th>\n      <th>type</th>\n      <th>title</th>\n      <th>director</th>\n      <th>cast</th>\n      <th>country</th>\n      <th>date_added</th>\n      <th>release_year</th>\n      <th>rating</th>\n      <th>duration</th>\n      <th>listed_in</th>\n      <th>description</th>\n      <th>computer_date</th>\n      <th>Date Part 1</th>\n      <th>Year</th>\n      <th>genre_count</th>\n      <th>show_id_y</th>\n    </tr>\n  </thead>\n  <tbody>\n    <tr>\n      <th>0</th>\n      <td>s1</td>\n      <td>TV Show</td>\n      <td>3%</td>\n      <td>NaN</td>\n      <td>João Miguel, Bianca Comparato, Michel Gomes, R...</td>\n      <td>Brazil</td>\n      <td>August 14, 2020</td>\n      <td>2020</td>\n      <td>TV-MA</td>\n      <td>4 Seasons</td>\n      <td>International TV Shows, TV Dramas, TV Sci-Fi &amp;...</td>\n      <td>In a future where the elite inhabit an island ...</td>\n      <td>2020-08-14</td>\n      <td>August 14</td>\n      <td>2020</td>\n      <td>3.0</td>\n      <td>72</td>\n    </tr>\n    <tr>\n      <th>1</th>\n      <td>s209</td>\n      <td>Movie</td>\n      <td>A new Capitalism</td>\n      <td>NaN</td>\n      <td>no cast</td>\n      <td>Brazil</td>\n      <td>June 12, 2018</td>\n      <td>2017</td>\n      <td>TV-14</td>\n      <td>76 min</td>\n      <td>Documentaries, International Movies</td>\n      <td>Entrepreneurs worldwide explore alternatives t...</td>\n      <td>2018-06-12</td>\n      <td>June 12</td>\n      <td>2018</td>\n      <td>2.0</td>\n      <td>72</td>\n    </tr>\n    <tr>\n      <th>2</th>\n      <td>s219</td>\n      <td>TV Show</td>\n      <td>A Queen Is Born</td>\n      <td>Carla Barros</td>\n      <td>Gloria Groove, Alexia Twister</td>\n      <td>Brazil</td>\n      <td>November 11, 2020</td>\n      <td>2020</td>\n      <td>TV-14</td>\n      <td>1 Season</td>\n      <td>International TV Shows, Reality TV</td>\n      <td>Gloria Groove and Alexia Twister make drag dre...</td>\n      <td>2020-11-11</td>\n      <td>November 11</td>\n      <td>2020</td>\n      <td>2.0</td>\n      <td>72</td>\n    </tr>\n    <tr>\n      <th>3</th>\n      <td>s321</td>\n      <td>Movie</td>\n      <td>Afonso Padilha: Classless</td>\n      <td>Junior Carelli, Rudge Campos</td>\n      <td>Afonso Padilha</td>\n      <td>Brazil</td>\n      <td>September 3, 2020</td>\n      <td>2020</td>\n      <td>TV-MA</td>\n      <td>63 min</td>\n      <td>Stand-Up Comedy</td>\n      <td>Brazilian comedian Afonso Padilha dives into h...</td>\n      <td>2020-09-03</td>\n      <td>September 3</td>\n      <td>2020</td>\n      <td>1.0</td>\n      <td>72</td>\n    </tr>\n    <tr>\n      <th>4</th>\n      <td>s323</td>\n      <td>TV Show</td>\n      <td>Afronta! Facing It!</td>\n      <td>Juliana Vicente</td>\n      <td>Loo Nascimento, Ingrid Silva, Rincon Sapiência...</td>\n      <td>Brazil</td>\n      <td>October 31, 2020</td>\n      <td>2017</td>\n      <td>TV-PG</td>\n      <td>1 Season</td>\n      <td>Docuseries, International TV Shows</td>\n      <td>This docuseries spotlights Afro-Brazilian thin...</td>\n      <td>2020-10-31</td>\n      <td>October 31</td>\n      <td>2020</td>\n      <td>2.0</td>\n      <td>72</td>\n    </tr>\n    <tr>\n      <th>...</th>\n      <td>...</td>\n      <td>...</td>\n      <td>...</td>\n      <td>...</td>\n      <td>...</td>\n      <td>...</td>\n      <td>...</td>\n      <td>...</td>\n      <td>...</td>\n      <td>...</td>\n      <td>...</td>\n      <td>...</td>\n      <td>...</td>\n      <td>...</td>\n      <td>...</td>\n      <td>...</td>\n      <td>...</td>\n    </tr>\n    <tr>\n      <th>7618</th>\n      <td>s7727</td>\n      <td>Movie</td>\n      <td>You Carry Me</td>\n      <td>Ivona Juka</td>\n      <td>Lana Baric, Vojislav Brajovic, Natasa Janjic, ...</td>\n      <td>Croatia, Slovenia, Serbia, Montenegro</td>\n      <td>July 1, 2016</td>\n      <td>2015</td>\n      <td>TV-MA</td>\n      <td>157 min</td>\n      <td>Dramas, International Movies</td>\n      <td>A soap opera producer, director and makeup art...</td>\n      <td>2016-07-01</td>\n      <td>July 1</td>\n      <td>2016</td>\n      <td>2.0</td>\n      <td>1</td>\n    </tr>\n    <tr>\n      <th>7619</th>\n      <td>s7751</td>\n      <td>TV Show</td>\n      <td>Yu-Gi-Oh! Arc-V</td>\n      <td>NaN</td>\n      <td>Mike Liscio, Emily Bauer, Billy Bob Thompson, ...</td>\n      <td>Japan, Canada</td>\n      <td>May 1, 2018</td>\n      <td>2015</td>\n      <td>TV-Y7</td>\n      <td>2 Seasons</td>\n      <td>Anime Series, Kids' TV</td>\n      <td>Now that he's discovered the Pendulum Summonin...</td>\n      <td>2018-05-01</td>\n      <td>May 1</td>\n      <td>2018</td>\n      <td>2.0</td>\n      <td>1</td>\n    </tr>\n    <tr>\n      <th>7620</th>\n      <td>s7760</td>\n      <td>TV Show</td>\n      <td>Zak Storm</td>\n      <td>NaN</td>\n      <td>Michael Johnston, Jessica Gee-George, Christin...</td>\n      <td>United States, France, South Korea, Indonesia</td>\n      <td>September 13, 2018</td>\n      <td>2016</td>\n      <td>TV-Y7</td>\n      <td>3 Seasons</td>\n      <td>Kids' TV</td>\n      <td>Teen surfer Zak Storm is mysteriously transpor...</td>\n      <td>2018-09-13</td>\n      <td>September 13</td>\n      <td>2018</td>\n      <td>1.0</td>\n      <td>1</td>\n    </tr>\n    <tr>\n      <th>7621</th>\n      <td>s7771</td>\n      <td>Movie</td>\n      <td>Zinzana</td>\n      <td>Majid Al Ansari</td>\n      <td>Ali Suliman, Saleh Bakri, Yasa, Ali Al-Jabri, ...</td>\n      <td>United Arab Emirates, Jordan</td>\n      <td>March 9, 2016</td>\n      <td>2015</td>\n      <td>TV-MA</td>\n      <td>96 min</td>\n      <td>Dramas, International Movies, Thrillers</td>\n      <td>Recovering alcoholic Talal wakes up inside a s...</td>\n      <td>2016-03-09</td>\n      <td>March 9</td>\n      <td>2016</td>\n      <td>3.0</td>\n      <td>1</td>\n    </tr>\n    <tr>\n      <th>7622</th>\n      <td>s7783</td>\n      <td>Movie</td>\n      <td>Zozo</td>\n      <td>Josef Fares</td>\n      <td>Imad Creidi, Antoinette Turk, Elias Gergi, Car...</td>\n      <td>Sweden, Czech Republic, United Kingdom, Denmar...</td>\n      <td>October 19, 2020</td>\n      <td>2005</td>\n      <td>TV-MA</td>\n      <td>99 min</td>\n      <td>Dramas, International Movies</td>\n      <td>When Lebanon's Civil War deprives Zozo of his ...</td>\n      <td>2020-10-19</td>\n      <td>October 19</td>\n      <td>2020</td>\n      <td>2.0</td>\n      <td>1</td>\n    </tr>\n  </tbody>\n</table>\n<p>7623 rows × 17 columns</p>\n</div>"
     },
     "metadata": {},
     "execution_count": 99
    }
   ],
   "source": [
    "netflix_merged = pd.merge(new_dataset,netflix_movies_by_country, how = \"inner\", left_on=\"country\",right_on=\"country\")\n",
    "netflix_merged"
   ]
  },
  {
   "cell_type": "code",
   "execution_count": 38,
   "metadata": {},
   "outputs": [
    {
     "output_type": "execute_result",
     "data": {
      "text/plain": [
       "type                                            country  Movie  TV Show\n",
       "0                                             Argentina     34       16\n",
       "1     Argentina, Brazil, France, Poland, Germany, De...      1        0\n",
       "2                                      Argentina, Chile      1        0\n",
       "3                                Argentina, Chile, Peru      1        0\n",
       "4                                     Argentina, France      1        0\n",
       "..                                                  ...    ...      ...\n",
       "676                                           Venezuela      1        0\n",
       "677                                 Venezuela, Colombia      1        0\n",
       "678                                             Vietnam      5        0\n",
       "679                                        West Germany      1        0\n",
       "680                                            Zimbabwe      1        0\n",
       "\n",
       "[681 rows x 3 columns]"
      ],
      "text/html": "<div>\n<style scoped>\n    .dataframe tbody tr th:only-of-type {\n        vertical-align: middle;\n    }\n\n    .dataframe tbody tr th {\n        vertical-align: top;\n    }\n\n    .dataframe thead th {\n        text-align: right;\n    }\n</style>\n<table border=\"1\" class=\"dataframe\">\n  <thead>\n    <tr style=\"text-align: right;\">\n      <th>type</th>\n      <th>country</th>\n      <th>Movie</th>\n      <th>TV Show</th>\n    </tr>\n  </thead>\n  <tbody>\n    <tr>\n      <th>0</th>\n      <td>Argentina</td>\n      <td>34</td>\n      <td>16</td>\n    </tr>\n    <tr>\n      <th>1</th>\n      <td>Argentina, Brazil, France, Poland, Germany, De...</td>\n      <td>1</td>\n      <td>0</td>\n    </tr>\n    <tr>\n      <th>2</th>\n      <td>Argentina, Chile</td>\n      <td>1</td>\n      <td>0</td>\n    </tr>\n    <tr>\n      <th>3</th>\n      <td>Argentina, Chile, Peru</td>\n      <td>1</td>\n      <td>0</td>\n    </tr>\n    <tr>\n      <th>4</th>\n      <td>Argentina, France</td>\n      <td>1</td>\n      <td>0</td>\n    </tr>\n    <tr>\n      <th>...</th>\n      <td>...</td>\n      <td>...</td>\n      <td>...</td>\n    </tr>\n    <tr>\n      <th>676</th>\n      <td>Venezuela</td>\n      <td>1</td>\n      <td>0</td>\n    </tr>\n    <tr>\n      <th>677</th>\n      <td>Venezuela, Colombia</td>\n      <td>1</td>\n      <td>0</td>\n    </tr>\n    <tr>\n      <th>678</th>\n      <td>Vietnam</td>\n      <td>5</td>\n      <td>0</td>\n    </tr>\n    <tr>\n      <th>679</th>\n      <td>West Germany</td>\n      <td>1</td>\n      <td>0</td>\n    </tr>\n    <tr>\n      <th>680</th>\n      <td>Zimbabwe</td>\n      <td>1</td>\n      <td>0</td>\n    </tr>\n  </tbody>\n</table>\n<p>681 rows × 3 columns</p>\n</div>"
     },
     "metadata": {},
     "execution_count": 38
    }
   ],
   "source": [
    "pivot__table = netflix.pivot_table(index = \"country\",columns= \"type\",values= \"title\",aggfunc= \"count\", fill_value= 0).reset_index()\n",
    "pivot__table"
   ]
  },
  {
   "cell_type": "code",
   "execution_count": 39,
   "metadata": {},
   "outputs": [
    {
     "output_type": "execute_result",
     "data": {
      "text/plain": [
       "   A  B  C\n",
       "0  a  1  2\n",
       "1  b  3  4\n",
       "2  c  5  6"
      ],
      "text/html": "<div>\n<style scoped>\n    .dataframe tbody tr th:only-of-type {\n        vertical-align: middle;\n    }\n\n    .dataframe tbody tr th {\n        vertical-align: top;\n    }\n\n    .dataframe thead th {\n        text-align: right;\n    }\n</style>\n<table border=\"1\" class=\"dataframe\">\n  <thead>\n    <tr style=\"text-align: right;\">\n      <th></th>\n      <th>A</th>\n      <th>B</th>\n      <th>C</th>\n    </tr>\n  </thead>\n  <tbody>\n    <tr>\n      <th>0</th>\n      <td>a</td>\n      <td>1</td>\n      <td>2</td>\n    </tr>\n    <tr>\n      <th>1</th>\n      <td>b</td>\n      <td>3</td>\n      <td>4</td>\n    </tr>\n    <tr>\n      <th>2</th>\n      <td>c</td>\n      <td>5</td>\n      <td>6</td>\n    </tr>\n  </tbody>\n</table>\n</div>"
     },
     "metadata": {},
     "execution_count": 39
    }
   ],
   "source": [
    "df = pd.DataFrame({'A': {0: 'a', 1: 'b', 2: 'c'},\n",
    "                   'B': {0: 1, 1: 3, 2: 5},\n",
    "                   'C': {0: 2, 1: 4, 2: 6}})\n",
    "df"
   ]
  },
  {
   "cell_type": "code",
   "execution_count": 40,
   "metadata": {},
   "outputs": [
    {
     "output_type": "execute_result",
     "data": {
      "text/plain": [
       "   A myVarname  myValname\n",
       "0  a         B          1\n",
       "1  b         B          3\n",
       "2  c         B          5"
      ],
      "text/html": "<div>\n<style scoped>\n    .dataframe tbody tr th:only-of-type {\n        vertical-align: middle;\n    }\n\n    .dataframe tbody tr th {\n        vertical-align: top;\n    }\n\n    .dataframe thead th {\n        text-align: right;\n    }\n</style>\n<table border=\"1\" class=\"dataframe\">\n  <thead>\n    <tr style=\"text-align: right;\">\n      <th></th>\n      <th>A</th>\n      <th>myVarname</th>\n      <th>myValname</th>\n    </tr>\n  </thead>\n  <tbody>\n    <tr>\n      <th>0</th>\n      <td>a</td>\n      <td>B</td>\n      <td>1</td>\n    </tr>\n    <tr>\n      <th>1</th>\n      <td>b</td>\n      <td>B</td>\n      <td>3</td>\n    </tr>\n    <tr>\n      <th>2</th>\n      <td>c</td>\n      <td>B</td>\n      <td>5</td>\n    </tr>\n  </tbody>\n</table>\n</div>"
     },
     "metadata": {},
     "execution_count": 40
    }
   ],
   "source": [
    "\n",
    "df.melt(id_vars=['A'], value_vars=['B'],\n",
    "        var_name='myVarname', value_name='myValname')"
   ]
  }
 ]
}